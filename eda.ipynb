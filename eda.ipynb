{
 "cells": [
  {
   "cell_type": "markdown",
   "metadata": {},
   "source": [
    "### Libraries"
   ]
  },
  {
   "cell_type": "code",
   "execution_count": 12,
   "metadata": {},
   "outputs": [],
   "source": [
    "import pandas as pd\n",
    "import matplotlib.pyplot as plt"
   ]
  },
  {
   "cell_type": "markdown",
   "metadata": {},
   "source": [
    "### Data importing"
   ]
  },
  {
   "cell_type": "code",
   "execution_count": 25,
   "metadata": {},
   "outputs": [],
   "source": [
    "df_tweets = pd.read_csv(\"data/scored_tweets_total.csv\")"
   ]
  },
  {
   "cell_type": "markdown",
   "metadata": {},
   "source": [
    "##### Data"
   ]
  },
  {
   "cell_type": "code",
   "execution_count": 26,
   "metadata": {},
   "outputs": [
    {
     "data": {
      "text/html": [
       "<div>\n",
       "<style scoped>\n",
       "    .dataframe tbody tr th:only-of-type {\n",
       "        vertical-align: middle;\n",
       "    }\n",
       "\n",
       "    .dataframe tbody tr th {\n",
       "        vertical-align: top;\n",
       "    }\n",
       "\n",
       "    .dataframe thead th {\n",
       "        text-align: right;\n",
       "    }\n",
       "</style>\n",
       "<table border=\"1\" class=\"dataframe\">\n",
       "  <thead>\n",
       "    <tr style=\"text-align: right;\">\n",
       "      <th></th>\n",
       "      <th>Stock</th>\n",
       "      <th>Datetime</th>\n",
       "      <th>user.screen_name</th>\n",
       "      <th>id_str</th>\n",
       "      <th>text</th>\n",
       "      <th>Sentiment</th>\n",
       "      <th>Known_Pumper</th>\n",
       "      <th>Price_Region</th>\n",
       "      <th>Inflection_Point</th>\n",
       "    </tr>\n",
       "  </thead>\n",
       "  <tbody>\n",
       "    <tr>\n",
       "      <th>0</th>\n",
       "      <td>AXTG</td>\n",
       "      <td>2021-03-25 17:50:13+00:00</td>\n",
       "      <td>UCitnow</td>\n",
       "      <td>1375142994920271872a</td>\n",
       "      <td>#RT @ldev117: RT @UCitnow: @ShortSqueezed1 @EV...</td>\n",
       "      <td>0</td>\n",
       "      <td>0</td>\n",
       "      <td>1.0</td>\n",
       "      <td>NaN</td>\n",
       "    </tr>\n",
       "    <tr>\n",
       "      <th>1</th>\n",
       "      <td>AXTG</td>\n",
       "      <td>2021-03-25 17:50:48+00:00</td>\n",
       "      <td>UCitnow</td>\n",
       "      <td>1375143141058080768a</td>\n",
       "      <td>RT @UCitnow: #RT @ldev117: RT @UCitnow: @Short...</td>\n",
       "      <td>0</td>\n",
       "      <td>0</td>\n",
       "      <td>1.0</td>\n",
       "      <td>NaN</td>\n",
       "    </tr>\n",
       "    <tr>\n",
       "      <th>2</th>\n",
       "      <td>AXTG</td>\n",
       "      <td>2021-03-25 18:47:48+00:00</td>\n",
       "      <td>Rad7RR</td>\n",
       "      <td>1375157484063584261a</td>\n",
       "      <td>$AXTG Big OTC % Gainer!🚀🚀🚀</td>\n",
       "      <td>1</td>\n",
       "      <td>0</td>\n",
       "      <td>1.0</td>\n",
       "      <td>NaN</td>\n",
       "    </tr>\n",
       "    <tr>\n",
       "      <th>3</th>\n",
       "      <td>AXTG</td>\n",
       "      <td>2021-03-25 20:02:03+00:00</td>\n",
       "      <td>GetScanz</td>\n",
       "      <td>1375176172099747845a</td>\n",
       "      <td>Today’s Top Penny Stock Gainers\\n\\n$LTTGF $AXT...</td>\n",
       "      <td>1</td>\n",
       "      <td>0</td>\n",
       "      <td>1.0</td>\n",
       "      <td>NaN</td>\n",
       "    </tr>\n",
       "    <tr>\n",
       "      <th>4</th>\n",
       "      <td>AXTG</td>\n",
       "      <td>2021-03-25 20:02:48+00:00</td>\n",
       "      <td>christinebarnum</td>\n",
       "      <td>1375176361560604679a</td>\n",
       "      <td>RT @GetScanz: Today’s Top Penny Stock Gainers\\...</td>\n",
       "      <td>1</td>\n",
       "      <td>0</td>\n",
       "      <td>1.0</td>\n",
       "      <td>NaN</td>\n",
       "    </tr>\n",
       "  </tbody>\n",
       "</table>\n",
       "</div>"
      ],
      "text/plain": [
       "  Stock                   Datetime user.screen_name                id_str  \\\n",
       "0  AXTG  2021-03-25 17:50:13+00:00          UCitnow  1375142994920271872a   \n",
       "1  AXTG  2021-03-25 17:50:48+00:00          UCitnow  1375143141058080768a   \n",
       "2  AXTG  2021-03-25 18:47:48+00:00           Rad7RR  1375157484063584261a   \n",
       "3  AXTG  2021-03-25 20:02:03+00:00         GetScanz  1375176172099747845a   \n",
       "4  AXTG  2021-03-25 20:02:48+00:00  christinebarnum  1375176361560604679a   \n",
       "\n",
       "                                                text  Sentiment  Known_Pumper  \\\n",
       "0  #RT @ldev117: RT @UCitnow: @ShortSqueezed1 @EV...          0             0   \n",
       "1  RT @UCitnow: #RT @ldev117: RT @UCitnow: @Short...          0             0   \n",
       "2                         $AXTG Big OTC % Gainer!🚀🚀🚀          1             0   \n",
       "3  Today’s Top Penny Stock Gainers\\n\\n$LTTGF $AXT...          1             0   \n",
       "4  RT @GetScanz: Today’s Top Penny Stock Gainers\\...          1             0   \n",
       "\n",
       "   Price_Region  Inflection_Point  \n",
       "0           1.0               NaN  \n",
       "1           1.0               NaN  \n",
       "2           1.0               NaN  \n",
       "3           1.0               NaN  \n",
       "4           1.0               NaN  "
      ]
     },
     "execution_count": 26,
     "metadata": {},
     "output_type": "execute_result"
    }
   ],
   "source": [
    "df_tweets.head()"
   ]
  },
  {
   "cell_type": "markdown",
   "metadata": {},
   "source": [
    "##### Converting Datetime to datetime"
   ]
  },
  {
   "cell_type": "code",
   "execution_count": 27,
   "metadata": {},
   "outputs": [],
   "source": [
    "df_tweets['Datetime'] = pd.to_datetime(df_tweets['Datetime'])"
   ]
  },
  {
   "cell_type": "code",
   "execution_count": 28,
   "metadata": {},
   "outputs": [
    {
     "name": "stdout",
     "output_type": "stream",
     "text": [
      "📆 Date range in the dataset:\n",
      "Start Date: 2021-03-23 03:32:08+00:00\n",
      "End Date:   2021-04-09 01:14:21+00:00\n"
     ]
    }
   ],
   "source": [
    "min_date = df_tweets['Datetime'].min()\n",
    "max_date = df_tweets['Datetime'].max()\n",
    "\n",
    "print(\"📆 Date range in the dataset:\")\n",
    "print(\"Start Date:\", min_date)\n",
    "print(\"End Date:  \", max_date)"
   ]
  },
  {
   "cell_type": "markdown",
   "metadata": {},
   "source": [
    "### Plotting the stock tweet volume over time"
   ]
  },
  {
   "cell_type": "code",
   "execution_count": 29,
   "metadata": {},
   "outputs": [
    {
     "name": "stderr",
     "output_type": "stream",
     "text": [
      "/var/folders/q3/p7x07_8d2b9fv9qcmf0s6wyc0000gn/T/ipykernel_75116/724682068.py:8: FutureWarning: 'H' is deprecated and will be removed in a future version, please use 'h' instead.\n",
      "  tweet_volume_hourly = df_tweets['text'].resample('H').count()\n",
      "/var/folders/q3/p7x07_8d2b9fv9qcmf0s6wyc0000gn/T/ipykernel_75116/724682068.py:17: UserWarning: Glyph 128197 (\\N{CALENDAR}) missing from font(s) DejaVu Sans.\n",
      "  plt.tight_layout()\n",
      "/Users/dominiccheong/Library/Python/3.11/lib/python/site-packages/IPython/core/pylabtools.py:170: UserWarning: Glyph 128197 (\\N{CALENDAR}) missing from font(s) DejaVu Sans.\n",
      "  fig.canvas.print_figure(bytes_io, **kw)\n",
      "/Users/dominiccheong/Library/Python/3.11/lib/python/site-packages/IPython/core/pylabtools.py:170: UserWarning: Glyph 128197 (\\N{CALENDAR}) missing from font(s) DejaVu Sans.\n",
      "  fig.canvas.print_figure(bytes_io, **kw)\n"
     ]
    },
    {
     "data": {
      "image/png": "[encoded data removed]",
      "text/plain": [
       "<Figure size 1200x500 with 1 Axes>"
      ]
     },
     "metadata": {},
     "output_type": "display_data"
    }
   ],
   "source": [
    "df_tweets.set_index('Datetime', inplace=True)\n",
    "\n",
    "# 3. Resample by time interval and count tweets\n",
    "# Daily\n",
    "tweet_volume_daily = df_tweets['text'].resample('D').count()\n",
    "\n",
    "# Hourly (if you want finer granularity)\n",
    "tweet_volume_hourly = df_tweets['text'].resample('H').count()\n",
    "\n",
    "# 4. Plotting the result\n",
    "plt.figure(figsize=(12, 5))\n",
    "tweet_volume_daily.plot()\n",
    "plt.title('📅 Tweet Volume Over Time (Daily)')\n",
    "plt.xlabel('Date')\n",
    "plt.ylabel('Number of Tweets')\n",
    "plt.grid(True)\n",
    "plt.tight_layout()\n",
    "plt.show()\n",
    "\n",
    "df_tweets.reset_index(inplace=True)"
   ]
  },
  {
   "cell_type": "markdown",
   "metadata": {},
   "source": [
    "### Stock tickers"
   ]
  },
  {
   "cell_type": "code",
   "execution_count": null,
   "metadata": {},
   "outputs": [
    {
     "data": {
      "text/plain": [
       "10076"
      ]
     },
     "execution_count": 32,
     "metadata": {},
     "output_type": "execute_result"
    }
   ],
   "source": [
    "df_tweets[\"Stock\"].unique()"
   ]
  },
  {
   "cell_type": "code",
   "execution_count": 33,
   "metadata": {},
   "outputs": [],
   "source": [
    "d = {}\n",
    "\n",
    "for stockname in df_tweets[\"Stock\"]:\n",
    "    if stockname not in d:\n",
    "        d[stockname] = 0\n",
    "    d[stockname] += 1"
   ]
  },
  {
   "cell_type": "code",
   "execution_count": 34,
   "metadata": {},
   "outputs": [
    {
     "data": {
      "text/plain": [
       "{'AXTG': 23,\n",
       " 'CERPQ': 348,\n",
       " 'WNRS': 132,\n",
       " 'DPLN': 103,\n",
       " 'SOL': 1674,\n",
       " 'GYST': 1094,\n",
       " 'TTCM': 518,\n",
       " 'SEAC': 560,\n",
       " 'EEENF': 5624}"
      ]
     },
     "execution_count": 34,
     "metadata": {},
     "output_type": "execute_result"
    }
   ],
   "source": [
    "d"
   ]
  },
  {
   "cell_type": "markdown",
   "metadata": {},
   "source": [
    "Need to extract stock price movement for these tickers"
   ]
  }
 ],
 "metadata": {
  "kernelspec": {
   "display_name": "Python 3",
   "language": "python",
   "name": "python3"
  },
  "language_info": {
   "codemirror_mode": {
    "name": "ipython",
    "version": 3
   },
   "file_extension": ".py",
   "mimetype": "text/x-python",
   "name": "python",
   "nbconvert_exporter": "python",
   "pygments_lexer": "ipython3",
   "version": "3.11.9"
  }
 },
 "nbformat": 4,
 "nbformat_minor": 2
}
