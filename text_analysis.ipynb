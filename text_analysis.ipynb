{
 "cells": [
  {
   "cell_type": "code",
   "id": "initial_id",
   "metadata": {
    "collapsed": true,
    "ExecuteTime": {
     "end_time": "2025-04-05T14:07:04.627001Z",
     "start_time": "2025-04-05T14:07:02.822488Z"
    }
   },
   "source": [
    "import pandas as pd\n",
    "import re\n",
    "import emoji\n",
    "import numpy as np\n",
    "from sklearn.model_selection import train_test_split\n",
    "from sklearn.preprocessing import MinMaxScaler\n",
    "from sklearn.ensemble import RandomForestClassifier\n",
    "from sklearn.metrics import accuracy_score, recall_score, precision_score, f1_score, roc_auc_score, confusion_matrix\n",
    "from sklearn.pipeline import Pipeline\n",
    "from sklearn.compose import ColumnTransformer\n",
    "from sklearn.feature_extraction.text import TfidfVectorizer\n",
    "from imblearn.over_sampling import SMOTE"
   ],
   "outputs": [],
   "execution_count": 1
  },
  {
   "metadata": {
    "ExecuteTime": {
     "end_time": "2025-04-05T14:07:04.806972Z",
     "start_time": "2025-04-05T14:07:04.628007Z"
    }
   },
   "cell_type": "code",
   "source": [
    "normal_data = pd.read_csv(r\"C:\\Users\\limti\\PycharmProjects\\DSA4263_StockTweets\\data\\normal_data.csv\")\n",
    "tfidf_data = pd.read_csv(r\"C:\\Users\\limti\\PycharmProjects\\DSA4263_StockTweets\\data\\tfidf_data.csv\")"
   ],
   "id": "6217a42cdff1a963",
   "outputs": [],
   "execution_count": 2
  },
  {
   "metadata": {
    "ExecuteTime": {
     "end_time": "2025-04-05T14:07:04.861208Z",
     "start_time": "2025-04-05T14:07:04.806972Z"
    }
   },
   "cell_type": "code",
   "source": [
    "def count_hashtags(text):\n",
    "    if isinstance(text, str):\n",
    "        return len(re.findall(r'#\\w+', text))\n",
    "    return 0\n",
    "\n",
    "def count_emojis(text):\n",
    "    if isinstance(text, str):\n",
    "        return len([char for char in text if char in emoji.EMOJI_DATA])\n",
    "    return 0\n",
    "\n",
    "\n",
    "# Apply the functions to your text column\n",
    "normal_data['hashtag_count'] = normal_data['text'].apply(count_hashtags) #replace text_column\n",
    "normal_data['emoji_count'] = normal_data['text'].apply(count_emojis) #replace text_column\n",
    "\n",
    "# Display the DataFrame with the new columns\n",
    "print(normal_data[['text', 'hashtag_count', 'emoji_count']].head())"
   ],
   "id": "5ca07db8bf55013",
   "outputs": [
    {
     "name": "stdout",
     "output_type": "stream",
     "text": [
      "                                                text  hashtag_count  \\\n",
      "0                    #rt  rt    axtg new intern ceo               1   \n",
      "1                rt  #rt  rt    axtg new intern ceo               1   \n",
      "2             axtg big otc  gainerrocketrocketrocket              0   \n",
      "3  todays top penny stock gainers\\n\\nlttgf axtg s...              1   \n",
      "4  rt  todays top penny stock gainers\\n\\nlttgf ax...              3   \n",
      "\n",
      "   emoji_count  \n",
      "0            0  \n",
      "1            0  \n",
      "2            0  \n",
      "3            0  \n",
      "4            0  \n"
     ]
    }
   ],
   "execution_count": 3
  },
  {
   "metadata": {
    "ExecuteTime": {
     "end_time": "2025-04-05T14:07:10.733023Z",
     "start_time": "2025-04-05T14:07:10.728024Z"
    }
   },
   "cell_type": "code",
   "source": [
    "data = normal_data[[\"text\", \"Known_Pumper\"]]\n",
    "print(data.head())"
   ],
   "id": "40906b849852f024",
   "outputs": [
    {
     "name": "stdout",
     "output_type": "stream",
     "text": [
      "                                                text  Known_Pumper\n",
      "0                    #rt  rt    axtg new intern ceo              0\n",
      "1                rt  #rt  rt    axtg new intern ceo              0\n",
      "2             axtg big otc  gainerrocketrocketrocket             0\n",
      "3  todays top penny stock gainers\\n\\nlttgf axtg s...             0\n",
      "4  rt  todays top penny stock gainers\\n\\nlttgf ax...             0\n"
     ]
    }
   ],
   "execution_count": 4
  },
  {
   "metadata": {
    "ExecuteTime": {
     "end_time": "2025-04-05T15:12:08.808107Z",
     "start_time": "2025-04-05T15:12:08.796583Z"
    }
   },
   "cell_type": "code",
   "source": [
    "import pandas as pd\n",
    "import re\n",
    "import emoji\n",
    "from sklearn.model_selection import train_test_split, GridSearchCV\n",
    "from sklearn.preprocessing import MinMaxScaler\n",
    "from sklearn.ensemble import RandomForestClassifier, GradientBoostingClassifier\n",
    "from sklearn.linear_model import LogisticRegression\n",
    "from sklearn.metrics import accuracy_score, precision_score, recall_score, f1_score, roc_auc_score, confusion_matrix\n",
    "from sklearn.pipeline import Pipeline\n",
    "from sklearn.compose import ColumnTransformer\n",
    "from sklearn.feature_extraction.text import TfidfVectorizer\n",
    "from imblearn.over_sampling import SMOTE\n",
    "\n",
    "def count_hashtags(text):\n",
    "    if isinstance(text, str):\n",
    "        return len(re.findall(r'#\\w+', text))\n",
    "    return 0\n",
    "\n",
    "def count_emojis(text):\n",
    "    if isinstance(text, str):\n",
    "        return len([char for char in text if char in emoji.EMOJI_DATA])\n",
    "    return 0\n",
    "\n",
    "def preprocess_text(text):\n",
    "    if isinstance(text, str):\n",
    "        text = emoji.demojize(text)\n",
    "        text = re.sub(r'http\\S+|www\\S+|https\\S+', '', text, flags=re.MULTILINE)\n",
    "        text = re.sub(r'@\\w+', '', text)\n",
    "        text = re.sub(r'[^\\w\\s#]', '', text)\n",
    "        text = re.sub(r'[^a-zA-Z\\s#]', '', text)\n",
    "        text = text.lower()\n",
    "        return text\n",
    "    else:\n",
    "        return \"\"\n",
    "\n",
    "def align_tfidf_columns(train_tfidf_df, test_tfidf_df):\n",
    "    \"\"\"Aligns TF-IDF columns between training and test DataFrames.\"\"\"\n",
    "    train_cols = set(train_tfidf_df.columns)\n",
    "    test_cols = set(test_tfidf_df.columns)\n",
    "\n",
    "    common_cols = list(train_cols & test_cols)\n",
    "    missing_train_cols = list(test_cols - train_cols)\n",
    "    missing_test_cols = list(train_cols - test_cols)\n",
    "\n",
    "    for col in missing_train_cols:\n",
    "        train_tfidf_df[col] = 0\n",
    "\n",
    "    for col in missing_test_cols:\n",
    "        test_tfidf_df[col] = 0\n",
    "\n",
    "    return train_tfidf_df[common_cols + missing_test_cols], test_tfidf_df[common_cols + missing_train_cols]\n",
    "\n",
    "def create_ml_pipeline_with_tfidf_oversampling(df, classifier, text_column='text', target_column='Known_Pumper', numerical_columns=[\"emoji_count\", \"hashtag_count\"], oversampling=True, max_tfidf_features=100, param_grid=None):\n",
    "    \"\"\"\n",
    "    Creates a machine learning pipeline with TF-IDF, emoji/hashtag counts, and optional SMOTE oversampling.\n",
    "    Returns metrics for both train and test sets.\n",
    "    \"\"\"\n",
    "\n",
    "    # Feature Engineering (Emoji and Hashtag Counts)\n",
    "    df['hashtag_count'] = df[text_column].apply(count_hashtags)\n",
    "    df['emoji_count'] = df[text_column].apply(count_emojis)\n",
    "\n",
    "    # Text Preprocessing for TF-IDF\n",
    "    df[text_column] = df[text_column].apply(preprocess_text)\n",
    "\n",
    "    # Separate features and target\n",
    "    X = df.drop(target_column, axis=1)\n",
    "    y = df[target_column]\n",
    "\n",
    "    # Train-Test Split\n",
    "    X_train, X_test, y_train, y_test = train_test_split(X, y, test_size=0.2, random_state=42)\n",
    "\n",
    "    # TF-IDF Vectorization\n",
    "    vectorizer = TfidfVectorizer(max_features=max_tfidf_features, stop_words='english')\n",
    "    train_tfidf_matrix = vectorizer.fit_transform(X_train[text_column])\n",
    "    test_tfidf_matrix = vectorizer.transform(X_test[text_column])\n",
    "\n",
    "    train_tfidf_df = pd.DataFrame(train_tfidf_matrix.toarray(), columns=vectorizer.get_feature_names_out())\n",
    "    test_tfidf_df = pd.DataFrame(test_tfidf_matrix.toarray(), columns=vectorizer.get_feature_names_out())\n",
    "\n",
    "    # Align TF-IDF Columns\n",
    "    train_tfidf_df, test_tfidf_df = align_tfidf_columns(train_tfidf_df, test_tfidf_df)\n",
    "\n",
    "    # Feature Concatenation\n",
    "    X_train = X_train.reset_index(drop=True)\n",
    "    train_tfidf_df = train_tfidf_df.reset_index(drop=True)\n",
    "    X_test = X_test.reset_index(drop=True)\n",
    "    test_tfidf_df = test_tfidf_df.reset_index(drop=True)\n",
    "    \n",
    "    X_train = pd.concat([X_train.drop(text_column, axis=1), train_tfidf_df], axis=1)\n",
    "    X_test = pd.concat([X_test.drop(text_column, axis=1), test_tfidf_df], axis=1)\n",
    "\n",
    "    # Oversampling using SMOTE (if enabled)\n",
    "    if oversampling:\n",
    "        smote = SMOTE(random_state=42)\n",
    "        X_train_resampled, y_train_resampled = smote.fit_resample(X_train, y_train)\n",
    "    else:\n",
    "        X_train_resampled, y_train_resampled = X_train, y_train\n",
    "\n",
    "    # Identify TF-IDF columns\n",
    "    tfidf_columns = [col for col in X_train.columns if col not in numerical_columns and col != 'hashtag_count' and col != 'emoji_count']\n",
    "\n",
    "    # Preprocessing pipeline\n",
    "    preprocessor = ColumnTransformer(\n",
    "        transformers=[\n",
    "            ('numerical', MinMaxScaler(), numerical_columns + ['hashtag_count', 'emoji_count']),\n",
    "            ('tfidf', 'passthrough', tfidf_columns)\n",
    "        ],\n",
    "        remainder='drop'\n",
    "    )\n",
    "\n",
    "    # Full pipeline\n",
    "    pipeline = Pipeline(steps=[\n",
    "        ('preprocessor', preprocessor),\n",
    "        ('classifier', classifier)\n",
    "    ])\n",
    "\n",
    "    # Hyperparameter tuning with GridSearchCV (if enabled)\n",
    "    if param_grid is not None:\n",
    "        grid_search = GridSearchCV(pipeline, param_grid, cv=5, scoring='f1', verbose=2, n_jobs=3)\n",
    "        grid_search.fit(X_train_resampled, y_train_resampled)\n",
    "        pipeline = grid_search.best_estimator_\n",
    "\n",
    "    # Train the pipeline\n",
    "    else:\n",
    "        pipeline.fit(X_train_resampled, y_train_resampled)\n",
    "\n",
    "    # Make predictions\n",
    "    y_train_pred = pipeline.predict(X_train_resampled)\n",
    "    y_test_pred = pipeline.predict(X_test)\n",
    "\n",
    "    # Calculate metrics\n",
    "    train_metrics = {\n",
    "        'accuracy': accuracy_score(y_train_resampled, y_train_pred),\n",
    "        'precision': precision_score(y_train_resampled, y_train_pred),\n",
    "        'recall': recall_score(y_train_resampled, y_train_pred),\n",
    "        'f1': f1_score(y_train_resampled, y_train_pred),\n",
    "        'roc_auc': roc_auc_score(y_train_resampled, pipeline.predict_proba(X_train_resampled)[:, 1]),\n",
    "        'confusion_matrix': confusion_matrix(y_train_resampled, y_train_pred)\n",
    "    }\n",
    "\n",
    "    test_metrics = {\n",
    "        'accuracy': accuracy_score(y_test, y_test_pred),\n",
    "        'precision': precision_score(y_test, y_test_pred),\n",
    "        'recall': recall_score(y_test, y_test_pred),\n",
    "        'f1': f1_score(y_test, y_test_pred),\n",
    "        'roc_auc': roc_auc_score(y_test, pipeline.predict_proba(X_test)[:, 1]),\n",
    "        'confusion_matrix': confusion_matrix(y_test, y_test_pred)\n",
    "    }\n",
    "    \n",
    "    return pipeline, vectorizer, train_metrics, test_metrics"
   ],
   "id": "a55f3f8fe5862995",
   "outputs": [],
   "execution_count": 32
  },
  {
   "metadata": {
    "ExecuteTime": {
     "end_time": "2025-04-05T15:19:34.919892Z",
     "start_time": "2025-04-05T15:19:09.242189Z"
    }
   },
   "cell_type": "code",
   "source": [
    "from sklearn.linear_model import LogisticRegression\n",
    "\n",
    "param_grid_logistic = {\n",
    "    'classifier__penalty': ['l1', 'l2'],  # Regularization type\n",
    "    'classifier__C': [0.001, 0.01, 0.1, 1, 10, 100],  # Inverse of regularization strength\n",
    "    'classifier__solver': ['liblinear', 'saga'],  # Solver algorithm\n",
    "    'classifier__class_weight': [None, 'balanced'] #Handle Imbalance\n",
    "}\n",
    "\n",
    "pipeline, vectorizer, train_metrics, test_metrics = create_ml_pipeline_with_tfidf_oversampling(data, classifier = LogisticRegression(), param_grid = param_grid_logistic)"
   ],
   "id": "25df2ca8b2193401",
   "outputs": [
    {
     "name": "stderr",
     "output_type": "stream",
     "text": [
      "C:\\Users\\limti\\AppData\\Local\\Temp\\ipykernel_10932\\187949829.py:60: SettingWithCopyWarning: \n",
      "A value is trying to be set on a copy of a slice from a DataFrame.\n",
      "Try using .loc[row_indexer,col_indexer] = value instead\n",
      "\n",
      "See the caveats in the documentation: https://pandas.pydata.org/pandas-docs/stable/user_guide/indexing.html#returning-a-view-versus-a-copy\n",
      "  df['hashtag_count'] = df[text_column].apply(count_hashtags)\n",
      "C:\\Users\\limti\\AppData\\Local\\Temp\\ipykernel_10932\\187949829.py:61: SettingWithCopyWarning: \n",
      "A value is trying to be set on a copy of a slice from a DataFrame.\n",
      "Try using .loc[row_indexer,col_indexer] = value instead\n",
      "\n",
      "See the caveats in the documentation: https://pandas.pydata.org/pandas-docs/stable/user_guide/indexing.html#returning-a-view-versus-a-copy\n",
      "  df['emoji_count'] = df[text_column].apply(count_emojis)\n",
      "C:\\Users\\limti\\AppData\\Local\\Temp\\ipykernel_10932\\187949829.py:64: SettingWithCopyWarning: \n",
      "A value is trying to be set on a copy of a slice from a DataFrame.\n",
      "Try using .loc[row_indexer,col_indexer] = value instead\n",
      "\n",
      "See the caveats in the documentation: https://pandas.pydata.org/pandas-docs/stable/user_guide/indexing.html#returning-a-view-versus-a-copy\n",
      "  df[text_column] = df[text_column].apply(preprocess_text)\n"
     ]
    },
    {
     "name": "stdout",
     "output_type": "stream",
     "text": [
      "Fitting 5 folds for each of 48 candidates, totalling 240 fits\n"
     ]
    }
   ],
   "execution_count": 37
  },
  {
   "metadata": {
    "ExecuteTime": {
     "end_time": "2025-04-05T14:32:38.435375Z",
     "start_time": "2025-04-05T14:32:38.430954Z"
    }
   },
   "cell_type": "code",
   "source": "train_metrics",
   "id": "26cf9b734563a642",
   "outputs": [
    {
     "data": {
      "text/plain": [
       "{'accuracy': 0.814983922829582,\n",
       " 'precision': 0.7935043144774688,\n",
       " 'recall': 0.8515755627009647,\n",
       " 'f1': 0.8215149823190024,\n",
       " 'roc_auc': np.float64(0.8784621829799113),\n",
       " 'confusion_matrix': array([[6052, 1723],\n",
       "        [1154, 6621]])}"
      ]
     },
     "execution_count": 29,
     "metadata": {},
     "output_type": "execute_result"
    }
   ],
   "execution_count": 29
  },
  {
   "metadata": {
    "ExecuteTime": {
     "end_time": "2025-04-05T14:32:39.010316Z",
     "start_time": "2025-04-05T14:32:39.006198Z"
    }
   },
   "cell_type": "code",
   "source": "test_metrics",
   "id": "c442af38d52df816",
   "outputs": [
    {
     "data": {
      "text/plain": [
       "{'accuracy': 0.7738095238095238,\n",
       " 'precision': 0.11359026369168357,\n",
       " 'recall': 0.7466666666666667,\n",
       " 'f1': 0.19718309859154928,\n",
       " 'roc_auc': np.float64(0.8163111798042246),\n",
       " 'confusion_matrix': array([[1504,  437],\n",
       "        [  19,   56]])}"
      ]
     },
     "execution_count": 30,
     "metadata": {},
     "output_type": "execute_result"
    }
   ],
   "execution_count": 30
  },
  {
   "metadata": {
    "ExecuteTime": {
     "end_time": "2025-04-05T15:19:34.927166Z",
     "start_time": "2025-04-05T15:19:34.921156Z"
    }
   },
   "cell_type": "code",
   "source": [
    "import os\n",
    "import pickle\n",
    "pipeline_path = os.path.join(r\"C:\\Users\\limti\\PycharmProjects\\DSA4263_StockTweets\\model_training\\tfidf_training\", \"lr_pipeline.pkl\")\n",
    "vectorizer_path = os.path.join(r\"C:\\Users\\limti\\PycharmProjects\\DSA4263_StockTweets\\model_training\\tfidf_training\", \"lr_vectorizer.pkl\")\n",
    "\n",
    "with open(pipeline_path, 'wb') as p:\n",
    "    pickle.dump(pipeline, p)\n",
    "\n",
    "with open(vectorizer_path, 'wb') as v:\n",
    "    pickle.dump(vectorizer, v)"
   ],
   "id": "5bb66abc373d3bf5",
   "outputs": [],
   "execution_count": 38
  },
  {
   "metadata": {
    "ExecuteTime": {
     "end_time": "2025-04-05T15:14:00.966924Z",
     "start_time": "2025-04-05T15:12:14.075375Z"
    }
   },
   "cell_type": "code",
   "source": [
    "from sklearn.ensemble import GradientBoostingClassifier\n",
    "\n",
    "param_grid_gradient_boosting = {\n",
    "    'classifier__n_estimators': [100, 200],  # Reduced number of estimators\n",
    "    'classifier__learning_rate': [0.05, 0.1],  # Reduced learning rate options\n",
    "    'classifier__max_depth': [3, 4],  # Reduced depth options\n",
    "    'classifier__subsample': [0.9, 1.0],  # Reduced subsample options\n",
    "    'classifier__max_features': ['sqrt', None] # Reduced number of features to consider.\n",
    "}\n",
    "\n",
    "\n",
    "pipeline, vectorizer, train_metrics, test_metrics = create_ml_pipeline_with_tfidf_oversampling(data, classifier = GradientBoostingClassifier(), param_grid=param_grid_gradient_boosting)"
   ],
   "id": "1155096e8e46bc0e",
   "outputs": [
    {
     "name": "stderr",
     "output_type": "stream",
     "text": [
      "C:\\Users\\limti\\AppData\\Local\\Temp\\ipykernel_10932\\187949829.py:60: SettingWithCopyWarning: \n",
      "A value is trying to be set on a copy of a slice from a DataFrame.\n",
      "Try using .loc[row_indexer,col_indexer] = value instead\n",
      "\n",
      "See the caveats in the documentation: https://pandas.pydata.org/pandas-docs/stable/user_guide/indexing.html#returning-a-view-versus-a-copy\n",
      "  df['hashtag_count'] = df[text_column].apply(count_hashtags)\n",
      "C:\\Users\\limti\\AppData\\Local\\Temp\\ipykernel_10932\\187949829.py:61: SettingWithCopyWarning: \n",
      "A value is trying to be set on a copy of a slice from a DataFrame.\n",
      "Try using .loc[row_indexer,col_indexer] = value instead\n",
      "\n",
      "See the caveats in the documentation: https://pandas.pydata.org/pandas-docs/stable/user_guide/indexing.html#returning-a-view-versus-a-copy\n",
      "  df['emoji_count'] = df[text_column].apply(count_emojis)\n",
      "C:\\Users\\limti\\AppData\\Local\\Temp\\ipykernel_10932\\187949829.py:64: SettingWithCopyWarning: \n",
      "A value is trying to be set on a copy of a slice from a DataFrame.\n",
      "Try using .loc[row_indexer,col_indexer] = value instead\n",
      "\n",
      "See the caveats in the documentation: https://pandas.pydata.org/pandas-docs/stable/user_guide/indexing.html#returning-a-view-versus-a-copy\n",
      "  df[text_column] = df[text_column].apply(preprocess_text)\n"
     ]
    },
    {
     "name": "stdout",
     "output_type": "stream",
     "text": [
      "Fitting 5 folds for each of 32 candidates, totalling 160 fits\n"
     ]
    }
   ],
   "execution_count": 33
  },
  {
   "metadata": {
    "ExecuteTime": {
     "end_time": "2025-04-05T15:15:06.689481Z",
     "start_time": "2025-04-05T15:15:06.685481Z"
    }
   },
   "cell_type": "code",
   "source": "train_metrics",
   "id": "823319ad33d1bbcd",
   "outputs": [
    {
     "data": {
      "text/plain": [
       "{'accuracy': 0.9008360128617363,\n",
       " 'precision': 0.8823457244509876,\n",
       " 'recall': 0.925016077170418,\n",
       " 'f1': 0.9031771945246766,\n",
       " 'roc_auc': np.float64(0.9640159138139598),\n",
       " 'confusion_matrix': array([[6816,  959],\n",
       "        [ 583, 7192]])}"
      ]
     },
     "execution_count": 34,
     "metadata": {},
     "output_type": "execute_result"
    }
   ],
   "execution_count": 34
  },
  {
   "metadata": {
    "ExecuteTime": {
     "end_time": "2025-04-05T15:15:08.231212Z",
     "start_time": "2025-04-05T15:15:08.227060Z"
    }
   },
   "cell_type": "code",
   "source": "test_metrics",
   "id": "7a806c06239363f5",
   "outputs": [
    {
     "data": {
      "text/plain": [
       "{'accuracy': 0.8472222222222222,\n",
       " 'precision': 0.13479623824451412,\n",
       " 'recall': 0.5733333333333334,\n",
       " 'f1': 0.2182741116751269,\n",
       " 'roc_auc': np.float64(0.8024283015627685),\n",
       " 'confusion_matrix': array([[1665,  276],\n",
       "        [  32,   43]])}"
      ]
     },
     "execution_count": 35,
     "metadata": {},
     "output_type": "execute_result"
    }
   ],
   "execution_count": 35
  },
  {
   "metadata": {
    "ExecuteTime": {
     "end_time": "2025-04-05T15:18:56.720592Z",
     "start_time": "2025-04-05T15:18:56.708145Z"
    }
   },
   "cell_type": "code",
   "source": [
    "import os\n",
    "import pickle\n",
    "pipeline_path = os.path.join(r\"C:\\Users\\limti\\PycharmProjects\\DSA4263_StockTweets\\model_training\\tfidf_training\", \"gb_pipeline.pkl\")\n",
    "vectorizer_path = os.path.join(r\"C:\\Users\\limti\\PycharmProjects\\DSA4263_StockTweets\\model_training\\tfidf_training\", \"gb_vectorizer.pkl\")\n",
    "\n",
    "with open(pipeline_path, 'wb') as p:\n",
    "    pickle.dump(pipeline, p)\n",
    "\n",
    "with open(vectorizer_path, 'wb') as v:\n",
    "    pickle.dump(vectorizer, v)"
   ],
   "id": "68651b1e30ab401d",
   "outputs": [],
   "execution_count": 36
  },
  {
   "metadata": {
    "ExecuteTime": {
     "end_time": "2025-04-05T15:25:33.611716Z",
     "start_time": "2025-04-05T15:25:33.607199Z"
    }
   },
   "cell_type": "code",
   "source": "data[\"Known_Pumper\"]",
   "id": "32e43ffb42c881c9",
   "outputs": [
    {
     "data": {
      "text/plain": [
       "0        0\n",
       "1        0\n",
       "2        0\n",
       "3        0\n",
       "4        0\n",
       "        ..\n",
       "10071    0\n",
       "10072    0\n",
       "10073    0\n",
       "10074    0\n",
       "10075    0\n",
       "Name: Known_Pumper, Length: 10076, dtype: int64"
      ]
     },
     "execution_count": 40,
     "metadata": {},
     "output_type": "execute_result"
    }
   ],
   "execution_count": 40
  },
  {
   "metadata": {},
   "cell_type": "code",
   "outputs": [],
   "execution_count": null,
   "source": "",
   "id": "683ceec84240a153"
  }
 ],
 "metadata": {
  "kernelspec": {
   "display_name": "Python 3",
   "language": "python",
   "name": "python3"
  },
  "language_info": {
   "codemirror_mode": {
    "name": "ipython",
    "version": 2
   },
   "file_extension": ".py",
   "mimetype": "text/x-python",
   "name": "python",
   "nbconvert_exporter": "python",
   "pygments_lexer": "ipython2",
   "version": "2.7.6"
  }
 },
 "nbformat": 4,
 "nbformat_minor": 5
}
