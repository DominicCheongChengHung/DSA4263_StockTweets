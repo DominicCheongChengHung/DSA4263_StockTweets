{
 "cells": [
  {
   "cell_type": "code",
   "execution_count": 23,
   "metadata": {},
   "outputs": [],
   "source": [
    "import yfinance as yf\n",
    "import pandas as pd"
   ]
  },
  {
   "cell_type": "markdown",
   "metadata": {},
   "source": [
    "### Importing the stock ticker data"
   ]
  },
  {
   "cell_type": "code",
   "execution_count": 24,
   "metadata": {},
   "outputs": [
    {
     "name": "stderr",
     "output_type": "stream",
     "text": [
      "[*********************100%***********************]  1 of 1 completed\n",
      "[*********************100%***********************]  1 of 1 completed\n",
      "\n",
      "1 Failed download:\n",
      "['CERPQ']: YFTzMissingError('possibly delisted; no timezone found')\n",
      "[*********************100%***********************]  1 of 1 completed\n",
      "[*********************100%***********************]  1 of 1 completed\n",
      "\n",
      "1 Failed download:\n",
      "['DPLN']: YFTzMissingError('possibly delisted; no timezone found')\n",
      "[*********************100%***********************]  1 of 1 completed\n",
      "[*********************100%***********************]  1 of 1 completed\n",
      "[*********************100%***********************]  1 of 1 completed\n",
      "[*********************100%***********************]  1 of 1 completed\n",
      "[*********************100%***********************]  1 of 1 completed"
     ]
    },
    {
     "name": "stdout",
     "output_type": "stream",
     "text": [
      "              Close     High      Low     Open   Volume Stock  Adj Close\n",
      "Date                                                                    \n",
      "2021-03-01  0.00620  0.00620  0.00620  0.00620  10000.0  AXTG        NaN\n",
      "2021-03-02  0.00644  0.00950  0.00644  0.00950  34000.0  AXTG        NaN\n",
      "2021-03-03  0.00638  0.00638  0.00635  0.00635  34670.0  AXTG        NaN\n",
      "2021-03-04  0.00638  0.00638  0.00638  0.00638      0.0  AXTG        NaN\n",
      "2021-03-05  0.00638  0.00638  0.00638  0.00638      0.0  AXTG        NaN\n"
     ]
    },
    {
     "name": "stderr",
     "output_type": "stream",
     "text": [
      "\n"
     ]
    }
   ],
   "source": [
    "tickers = ['AXTG', 'CERPQ', 'WNRS', 'DPLN', 'SOL', 'GYST', 'TTCM', 'SEAC',\n",
    "       'EEENF']\n",
    "\n",
    "# stock_symbol = 'AXTG'\n",
    "start_date = '2021-03-01'\n",
    "end_date = '2021-04-30'\n",
    "\n",
    "res = pd.DataFrame()\n",
    "\n",
    "for ticker in tickers:\n",
    "       data = yf.download(ticker, start=start_date, end=end_date)\n",
    "       data.columns = [col[0] if isinstance(col, tuple) else col for col in data.columns]\n",
    "       data[\"Stock\"] = ticker\n",
    "       if len(res) == 0:\n",
    "              res = data\n",
    "       else:\n",
    "              res = pd.concat([res,data],axis = 0)\n",
    "\n",
    "# Preview the data\n",
    "print(res.head())\n"
   ]
  },
  {
   "cell_type": "code",
   "execution_count": 27,
   "metadata": {},
   "outputs": [],
   "source": [
    "res = res.reset_index()"
   ]
  },
  {
   "cell_type": "code",
   "execution_count": 29,
   "metadata": {},
   "outputs": [],
   "source": [
    "res.to_csv('data/stock_movement.csv', index=False)"
   ]
  }
 ],
 "metadata": {
  "kernelspec": {
   "display_name": "Python 3",
   "language": "python",
   "name": "python3"
  },
  "language_info": {
   "codemirror_mode": {
    "name": "ipython",
    "version": 3
   },
   "file_extension": ".py",
   "mimetype": "text/x-python",
   "name": "python",
   "nbconvert_exporter": "python",
   "pygments_lexer": "ipython3",
   "version": "3.11.9"
  }
 },
 "nbformat": 4,
 "nbformat_minor": 2
}
