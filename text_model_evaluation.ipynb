{
 "cells": [
  {
   "cell_type": "code",
   "id": "initial_id",
   "metadata": {
    "collapsed": true,
    "ExecuteTime": {
     "end_time": "2025-04-15T15:11:08.045301Z",
     "start_time": "2025-04-15T15:11:06.919583Z"
    }
   },
   "source": [
    "from tf_idf_new import PumpDetection\n",
    "import pandas as pd\n",
    "import numpy as np\n",
    "import re"
   ],
   "outputs": [],
   "execution_count": 1
  },
  {
   "metadata": {},
   "cell_type": "markdown",
   "source": [
    "# This python notebook is to test the model on another dataset of tweets\n",
    "\n",
    "We will be using the stock market dataset to detect any price anomalies (detecting potential pump using Isolation Forest) and test the model\n",
    "\n",
    "We're detecting pump-and-dump schemes on Twitter by correlating NLP model predictions of manipulative tweets with stock market price anomalies identified via Isolation Forest. This analysis evaluates the model's effectiveness in capturing these anomalies, assesses false positive/negative rates, analyzes time-based patterns, and identifies key features and user behaviors associated with these schemes. We're aiming to quantify the model's impact on detecting market manipulation by comparing predicted pump-and-dump tweets to significant price fluctuations, while acknowledging potential challenges like causality vs. correlation, time lags, and data noise."
   ],
   "id": "1d0e56e274315d9d"
  },
  {
   "metadata": {
    "ExecuteTime": {
     "end_time": "2025-04-15T15:11:08.478184Z",
     "start_time": "2025-04-15T15:11:08.046306Z"
    }
   },
   "cell_type": "code",
   "source": [
    "test_data = pd.read_csv(r\"../data/stock_tweets_test_on_real_data.csv\")\n",
    "stock_data = pd.read_csv(r\"../data/stock_yfinance_data_test_on_real_data.csv\")"
   ],
   "id": "782580ce8761b8f3",
   "outputs": [],
   "execution_count": 2
  },
  {
   "metadata": {},
   "cell_type": "markdown",
   "source": "## Detecting Price Anomalies",
   "id": "39231d767ebc35f3"
  },
  {
   "metadata": {
    "ExecuteTime": {
     "end_time": "2025-04-15T15:11:09.047385Z",
     "start_time": "2025-04-15T15:11:08.478688Z"
    }
   },
   "cell_type": "code",
   "source": [
    "from sklearn.ensemble import IsolationForest\n",
    "def detect_pump_and_dump(stock_prices, tweets, lags=[1, 3, 5]):\n",
    "    \"\"\"Detects potential pump-and-dump schemes.\"\"\"\n",
    "\n",
    "    stock_prices['Date'] = pd.to_datetime(stock_prices['Date']) #convert to datetime\n",
    "    tweets['Date'] = pd.to_datetime(pd.to_datetime(tweets['Date']).dt.date) #extract only the date\n",
    "\n",
    "    for lag in lags:\n",
    "        stock_prices[f'price_change_{lag}'] = stock_prices['Close'].pct_change(periods=lag) #Capital C\n",
    "        stock_prices[f'volume_change_{lag}'] = stock_prices['Volume'].pct_change(periods=lag) #Capital V\n",
    "\n",
    "    # Use all price and volume change columns for anomaly detection\n",
    "    price_volume_features = [col for col in stock_prices.columns if 'change' in col]\n",
    "\n",
    "    stock_prices['price_anomaly'] = IsolationForest().fit_predict(stock_prices[price_volume_features])\n",
    "\n",
    "    merged_data = pd.merge(stock_prices, tweets, on=['Date', 'Stock Name'], how='inner')\n",
    "\n",
    "\n",
    "    return merged_data\n",
    "\n",
    "pump_dump_data = detect_pump_and_dump(stock_data, test_data, lags=[1, 3, 5])\n",
    "pump_dump_data['price_anomaly'] = (pump_dump_data['price_anomaly'] == -1).astype(int)"
   ],
   "id": "7cb264aced4023da",
   "outputs": [],
   "execution_count": 3
  },
  {
   "metadata": {
    "ExecuteTime": {
     "end_time": "2025-04-15T15:11:09.055731Z",
     "start_time": "2025-04-15T15:11:09.047385Z"
    }
   },
   "cell_type": "code",
   "source": "pump_dump_data[\"price_anomaly\"].value_counts()",
   "id": "cfc9e556edffcb0a",
   "outputs": [
    {
     "data": {
      "text/plain": [
       "price_anomaly\n",
       "0    57285\n",
       "1     6391\n",
       "Name: count, dtype: int64"
      ]
     },
     "execution_count": 4,
     "metadata": {},
     "output_type": "execute_result"
    }
   ],
   "execution_count": 4
  },
  {
   "metadata": {},
   "cell_type": "markdown",
   "source": "## NLP Model Prediction",
   "id": "9d70eab5f000aa5"
  },
  {
   "metadata": {
    "ExecuteTime": {
     "end_time": "2025-04-15T15:11:09.106223Z",
     "start_time": "2025-04-15T15:11:09.056735Z"
    }
   },
   "cell_type": "code",
   "source": [
    "rf_path = [\n",
    "    r\"model/gradient_boosting_balanced_best_w_smote_pipeline.joblib\",\n",
    "    r\"model/gradient_boosting_balanced_best_w_smote_vectorizer.joblib\"\n",
    "]\n",
    "\n",
    "model = PumpDetection(rf_path[0], rf_path[1])"
   ],
   "id": "28b442136518b2a1",
   "outputs": [],
   "execution_count": 5
  },
  {
   "metadata": {
    "ExecuteTime": {
     "end_time": "2025-04-15T15:22:04.687989Z",
     "start_time": "2025-04-15T15:11:09.106223Z"
    }
   },
   "cell_type": "code",
   "source": "pump_dump_data[\"model_prediction\"] = model.predict(pump_dump_data[\"Tweet\"])",
   "id": "6753f155fc14852",
   "outputs": [
    {
     "name": "stdout",
     "output_type": "stream",
     "text": [
      "Translation Error: No features in text.\n"
     ]
    }
   ],
   "execution_count": 6
  },
  {
   "metadata": {
    "ExecuteTime": {
     "end_time": "2025-04-15T15:22:04.694395Z",
     "start_time": "2025-04-15T15:22:04.687989Z"
    }
   },
   "cell_type": "code",
   "source": "pump_dump_data[\"model_prediction\"].value_counts()",
   "id": "581630baf360a0ce",
   "outputs": [
    {
     "data": {
      "text/plain": [
       "model_prediction\n",
       "0    58637\n",
       "1     5039\n",
       "Name: count, dtype: int64"
      ]
     },
     "execution_count": 7,
     "metadata": {},
     "output_type": "execute_result"
    }
   ],
   "execution_count": 7
  },
  {
   "metadata": {
    "ExecuteTime": {
     "end_time": "2025-04-15T15:22:04.702611Z",
     "start_time": "2025-04-15T15:22:04.695399Z"
    }
   },
   "cell_type": "code",
   "source": [
    "total_price_anomaly = pump_dump_data[\"price_anomaly\"].sum()\n",
    "predicted_pump_tweet = pump_dump_data[pump_dump_data[\"model_prediction\"] == 1]\n",
    "number_of_predicted_pump_tweet_resulted_in_price_anomaly = predicted_pump_tweet[\"price_anomaly\"].sum()\n",
    "\n",
    "percentage_captured = (number_of_predicted_pump_tweet_resulted_in_price_anomaly / total_price_anomaly) * 100\n",
    "print(f\"Total Price Anomaly: {total_price_anomaly}\")\n",
    "print(f\"Price Anomaly Captured by Predicted Pump Tweets: {number_of_predicted_pump_tweet_resulted_in_price_anomaly}\")\n",
    "print(f\"Percentage of Price Anomaly Captured: {percentage_captured:.2f}%\")"
   ],
   "id": "5290714824bbcf5e",
   "outputs": [
    {
     "name": "stdout",
     "output_type": "stream",
     "text": [
      "Total Price Anomaly: 6391\n",
      "Price Anomaly Captured by Predicted Pump Tweets: 538\n",
      "Percentage of Price Anomaly Captured: 8.42%\n"
     ]
    }
   ],
   "execution_count": 8
  },
  {
   "metadata": {
    "ExecuteTime": {
     "end_time": "2025-04-15T15:22:04.796623Z",
     "start_time": "2025-04-15T15:22:04.704617Z"
    }
   },
   "cell_type": "code",
   "source": "predicted_pump_tweet.to_csv(r\"../data/flagged_tweets_validation.csv\")",
   "id": "32cfedf716f4ce96",
   "outputs": [],
   "execution_count": 9
  },
  {
   "metadata": {
    "ExecuteTime": {
     "end_time": "2025-04-15T15:22:04.818351Z",
     "start_time": "2025-04-15T15:22:04.799131Z"
    }
   },
   "cell_type": "code",
   "source": "predicted_pump_tweet",
   "id": "bceee78ba37013a0",
   "outputs": [
    {
     "data": {
      "text/plain": [
       "            Date        Open        High         Low       Close   Adj Close  \\\n",
       "10    2021-09-30  260.333344  263.043335  258.333344  258.493347  258.493347   \n",
       "16    2021-09-30  260.333344  263.043335  258.333344  258.493347  258.493347   \n",
       "26    2021-09-30  260.333344  263.043335  258.333344  258.493347  258.493347   \n",
       "27    2021-09-30  260.333344  263.043335  258.333344  258.493347  258.493347   \n",
       "30    2021-09-30  260.333344  263.043335  258.333344  258.493347  258.493347   \n",
       "...          ...         ...         ...         ...         ...         ...   \n",
       "63623 2022-03-07   29.190001   29.950001   26.950001   27.209999   27.209999   \n",
       "63626 2022-03-14   20.020000   21.799999   18.010000   19.750000   19.750000   \n",
       "63645 2022-04-01   30.000000   30.150000   28.230000   29.190001   29.190001   \n",
       "63650 2022-05-02   24.340000   25.719999   24.070000   25.389999   25.389999   \n",
       "63663 2022-07-01   32.869999   33.020000   29.549999   30.280001   30.280001   \n",
       "\n",
       "         Volume Stock Name  price_change_1  volume_change_1  price_change_3  \\\n",
       "10     53868000       TSLA             NaN              NaN             NaN   \n",
       "16     53868000       TSLA             NaN              NaN             NaN   \n",
       "26     53868000       TSLA             NaN              NaN             NaN   \n",
       "27     53868000       TSLA             NaN              NaN             NaN   \n",
       "30     53868000       TSLA             NaN              NaN             NaN   \n",
       "...         ...        ...             ...              ...             ...   \n",
       "63623  19520200       XPEV       -0.078564         0.790910       -0.209471   \n",
       "63626  31384500       XPEV       -0.137931         0.268866       -0.310646   \n",
       "63645  14765800       XPEV        0.057992         0.601306        0.035106   \n",
       "63650   7735200       XPEV        0.031694        -0.290375        0.070405   \n",
       "63663  12633000       XPEV       -0.045999         0.302103       -0.072872   \n",
       "\n",
       "       volume_change_3  price_change_5  volume_change_5  price_anomaly  \\\n",
       "10                 NaN             NaN              NaN              0   \n",
       "16                 NaN             NaN              NaN              0   \n",
       "26                 NaN             NaN              NaN              0   \n",
       "27                 NaN             NaN              NaN              0   \n",
       "30                 NaN             NaN              NaN              0   \n",
       "...                ...             ...              ...            ...   \n",
       "63623         1.004333       -0.251856         0.999344              1   \n",
       "63626         1.572226       -0.274164         0.607796              1   \n",
       "63645         0.075793        0.079113         0.053128              0   \n",
       "63650        -0.270993        0.048740        -0.118727              0   \n",
       "63663        -0.106552       -0.141967        -0.174939              0   \n",
       "\n",
       "                                                   Tweet Company Name  \\\n",
       "10     Decided to take Uber Black to the service cent...  Tesla, Inc.   \n",
       "16     Anyone @CNBC @jimcramer @Lebeaucarnews want to...  Tesla, Inc.   \n",
       "26     Has anyone ever published a credible explanati...  Tesla, Inc.   \n",
       "27     Tesla Giga Berlin to Receive Final Approval fo...  Tesla, Inc.   \n",
       "30     $TSLA China numbers starting to leak for Septe...  Tesla, Inc.   \n",
       "...                                                  ...          ...   \n",
       "63623  On March 28, 2022, we will announce our Q4 fin...   XPeng Inc.   \n",
       "63626  Norway's central bank boosts positions in NIO ...   XPeng Inc.   \n",
       "63645  BREAKING: China considers allowing full US acc...   XPeng Inc.   \n",
       "63650  *NIO APRIL EV DELIVERES DECLINE ALMOST 50% M/M...   XPeng Inc.   \n",
       "63663  $NIO $XPEV $LI Delivery Numbers Out.  Who won ...   XPeng Inc.   \n",
       "\n",
       "       model_prediction  \n",
       "10                    1  \n",
       "16                    1  \n",
       "26                    1  \n",
       "27                    1  \n",
       "30                    1  \n",
       "...                 ...  \n",
       "63623                 1  \n",
       "63626                 1  \n",
       "63645                 1  \n",
       "63650                 1  \n",
       "63663                 1  \n",
       "\n",
       "[5039 rows x 18 columns]"
      ],
      "text/html": [
       "<div>\n",
       "<style scoped>\n",
       "    .dataframe tbody tr th:only-of-type {\n",
       "        vertical-align: middle;\n",
       "    }\n",
       "\n",
       "    .dataframe tbody tr th {\n",
       "        vertical-align: top;\n",
       "    }\n",
       "\n",
       "    .dataframe thead th {\n",
       "        text-align: right;\n",
       "    }\n",
       "</style>\n",
       "<table border=\"1\" class=\"dataframe\">\n",
       "  <thead>\n",
       "    <tr style=\"text-align: right;\">\n",
       "      <th></th>\n",
       "      <th>Date</th>\n",
       "      <th>Open</th>\n",
       "      <th>High</th>\n",
       "      <th>Low</th>\n",
       "      <th>Close</th>\n",
       "      <th>Adj Close</th>\n",
       "      <th>Volume</th>\n",
       "      <th>Stock Name</th>\n",
       "      <th>price_change_1</th>\n",
       "      <th>volume_change_1</th>\n",
       "      <th>price_change_3</th>\n",
       "      <th>volume_change_3</th>\n",
       "      <th>price_change_5</th>\n",
       "      <th>volume_change_5</th>\n",
       "      <th>price_anomaly</th>\n",
       "      <th>Tweet</th>\n",
       "      <th>Company Name</th>\n",
       "      <th>model_prediction</th>\n",
       "    </tr>\n",
       "  </thead>\n",
       "  <tbody>\n",
       "    <tr>\n",
       "      <th>10</th>\n",
       "      <td>2021-09-30</td>\n",
       "      <td>260.333344</td>\n",
       "      <td>263.043335</td>\n",
       "      <td>258.333344</td>\n",
       "      <td>258.493347</td>\n",
       "      <td>258.493347</td>\n",
       "      <td>53868000</td>\n",
       "      <td>TSLA</td>\n",
       "      <td>NaN</td>\n",
       "      <td>NaN</td>\n",
       "      <td>NaN</td>\n",
       "      <td>NaN</td>\n",
       "      <td>NaN</td>\n",
       "      <td>NaN</td>\n",
       "      <td>0</td>\n",
       "      <td>Decided to take Uber Black to the service cent...</td>\n",
       "      <td>Tesla, Inc.</td>\n",
       "      <td>1</td>\n",
       "    </tr>\n",
       "    <tr>\n",
       "      <th>16</th>\n",
       "      <td>2021-09-30</td>\n",
       "      <td>260.333344</td>\n",
       "      <td>263.043335</td>\n",
       "      <td>258.333344</td>\n",
       "      <td>258.493347</td>\n",
       "      <td>258.493347</td>\n",
       "      <td>53868000</td>\n",
       "      <td>TSLA</td>\n",
       "      <td>NaN</td>\n",
       "      <td>NaN</td>\n",
       "      <td>NaN</td>\n",
       "      <td>NaN</td>\n",
       "      <td>NaN</td>\n",
       "      <td>NaN</td>\n",
       "      <td>0</td>\n",
       "      <td>Anyone @CNBC @jimcramer @Lebeaucarnews want to...</td>\n",
       "      <td>Tesla, Inc.</td>\n",
       "      <td>1</td>\n",
       "    </tr>\n",
       "    <tr>\n",
       "      <th>26</th>\n",
       "      <td>2021-09-30</td>\n",
       "      <td>260.333344</td>\n",
       "      <td>263.043335</td>\n",
       "      <td>258.333344</td>\n",
       "      <td>258.493347</td>\n",
       "      <td>258.493347</td>\n",
       "      <td>53868000</td>\n",
       "      <td>TSLA</td>\n",
       "      <td>NaN</td>\n",
       "      <td>NaN</td>\n",
       "      <td>NaN</td>\n",
       "      <td>NaN</td>\n",
       "      <td>NaN</td>\n",
       "      <td>NaN</td>\n",
       "      <td>0</td>\n",
       "      <td>Has anyone ever published a credible explanati...</td>\n",
       "      <td>Tesla, Inc.</td>\n",
       "      <td>1</td>\n",
       "    </tr>\n",
       "    <tr>\n",
       "      <th>27</th>\n",
       "      <td>2021-09-30</td>\n",
       "      <td>260.333344</td>\n",
       "      <td>263.043335</td>\n",
       "      <td>258.333344</td>\n",
       "      <td>258.493347</td>\n",
       "      <td>258.493347</td>\n",
       "      <td>53868000</td>\n",
       "      <td>TSLA</td>\n",
       "      <td>NaN</td>\n",
       "      <td>NaN</td>\n",
       "      <td>NaN</td>\n",
       "      <td>NaN</td>\n",
       "      <td>NaN</td>\n",
       "      <td>NaN</td>\n",
       "      <td>0</td>\n",
       "      <td>Tesla Giga Berlin to Receive Final Approval fo...</td>\n",
       "      <td>Tesla, Inc.</td>\n",
       "      <td>1</td>\n",
       "    </tr>\n",
       "    <tr>\n",
       "      <th>30</th>\n",
       "      <td>2021-09-30</td>\n",
       "      <td>260.333344</td>\n",
       "      <td>263.043335</td>\n",
       "      <td>258.333344</td>\n",
       "      <td>258.493347</td>\n",
       "      <td>258.493347</td>\n",
       "      <td>53868000</td>\n",
       "      <td>TSLA</td>\n",
       "      <td>NaN</td>\n",
       "      <td>NaN</td>\n",
       "      <td>NaN</td>\n",
       "      <td>NaN</td>\n",
       "      <td>NaN</td>\n",
       "      <td>NaN</td>\n",
       "      <td>0</td>\n",
       "      <td>$TSLA China numbers starting to leak for Septe...</td>\n",
       "      <td>Tesla, Inc.</td>\n",
       "      <td>1</td>\n",
       "    </tr>\n",
       "    <tr>\n",
       "      <th>...</th>\n",
       "      <td>...</td>\n",
       "      <td>...</td>\n",
       "      <td>...</td>\n",
       "      <td>...</td>\n",
       "      <td>...</td>\n",
       "      <td>...</td>\n",
       "      <td>...</td>\n",
       "      <td>...</td>\n",
       "      <td>...</td>\n",
       "      <td>...</td>\n",
       "      <td>...</td>\n",
       "      <td>...</td>\n",
       "      <td>...</td>\n",
       "      <td>...</td>\n",
       "      <td>...</td>\n",
       "      <td>...</td>\n",
       "      <td>...</td>\n",
       "      <td>...</td>\n",
       "    </tr>\n",
       "    <tr>\n",
       "      <th>63623</th>\n",
       "      <td>2022-03-07</td>\n",
       "      <td>29.190001</td>\n",
       "      <td>29.950001</td>\n",
       "      <td>26.950001</td>\n",
       "      <td>27.209999</td>\n",
       "      <td>27.209999</td>\n",
       "      <td>19520200</td>\n",
       "      <td>XPEV</td>\n",
       "      <td>-0.078564</td>\n",
       "      <td>0.790910</td>\n",
       "      <td>-0.209471</td>\n",
       "      <td>1.004333</td>\n",
       "      <td>-0.251856</td>\n",
       "      <td>0.999344</td>\n",
       "      <td>1</td>\n",
       "      <td>On March 28, 2022, we will announce our Q4 fin...</td>\n",
       "      <td>XPeng Inc.</td>\n",
       "      <td>1</td>\n",
       "    </tr>\n",
       "    <tr>\n",
       "      <th>63626</th>\n",
       "      <td>2022-03-14</td>\n",
       "      <td>20.020000</td>\n",
       "      <td>21.799999</td>\n",
       "      <td>18.010000</td>\n",
       "      <td>19.750000</td>\n",
       "      <td>19.750000</td>\n",
       "      <td>31384500</td>\n",
       "      <td>XPEV</td>\n",
       "      <td>-0.137931</td>\n",
       "      <td>0.268866</td>\n",
       "      <td>-0.310646</td>\n",
       "      <td>1.572226</td>\n",
       "      <td>-0.274164</td>\n",
       "      <td>0.607796</td>\n",
       "      <td>1</td>\n",
       "      <td>Norway's central bank boosts positions in NIO ...</td>\n",
       "      <td>XPeng Inc.</td>\n",
       "      <td>1</td>\n",
       "    </tr>\n",
       "    <tr>\n",
       "      <th>63645</th>\n",
       "      <td>2022-04-01</td>\n",
       "      <td>30.000000</td>\n",
       "      <td>30.150000</td>\n",
       "      <td>28.230000</td>\n",
       "      <td>29.190001</td>\n",
       "      <td>29.190001</td>\n",
       "      <td>14765800</td>\n",
       "      <td>XPEV</td>\n",
       "      <td>0.057992</td>\n",
       "      <td>0.601306</td>\n",
       "      <td>0.035106</td>\n",
       "      <td>0.075793</td>\n",
       "      <td>0.079113</td>\n",
       "      <td>0.053128</td>\n",
       "      <td>0</td>\n",
       "      <td>BREAKING: China considers allowing full US acc...</td>\n",
       "      <td>XPeng Inc.</td>\n",
       "      <td>1</td>\n",
       "    </tr>\n",
       "    <tr>\n",
       "      <th>63650</th>\n",
       "      <td>2022-05-02</td>\n",
       "      <td>24.340000</td>\n",
       "      <td>25.719999</td>\n",
       "      <td>24.070000</td>\n",
       "      <td>25.389999</td>\n",
       "      <td>25.389999</td>\n",
       "      <td>7735200</td>\n",
       "      <td>XPEV</td>\n",
       "      <td>0.031694</td>\n",
       "      <td>-0.290375</td>\n",
       "      <td>0.070405</td>\n",
       "      <td>-0.270993</td>\n",
       "      <td>0.048740</td>\n",
       "      <td>-0.118727</td>\n",
       "      <td>0</td>\n",
       "      <td>*NIO APRIL EV DELIVERES DECLINE ALMOST 50% M/M...</td>\n",
       "      <td>XPeng Inc.</td>\n",
       "      <td>1</td>\n",
       "    </tr>\n",
       "    <tr>\n",
       "      <th>63663</th>\n",
       "      <td>2022-07-01</td>\n",
       "      <td>32.869999</td>\n",
       "      <td>33.020000</td>\n",
       "      <td>29.549999</td>\n",
       "      <td>30.280001</td>\n",
       "      <td>30.280001</td>\n",
       "      <td>12633000</td>\n",
       "      <td>XPEV</td>\n",
       "      <td>-0.045999</td>\n",
       "      <td>0.302103</td>\n",
       "      <td>-0.072872</td>\n",
       "      <td>-0.106552</td>\n",
       "      <td>-0.141967</td>\n",
       "      <td>-0.174939</td>\n",
       "      <td>0</td>\n",
       "      <td>$NIO $XPEV $LI Delivery Numbers Out.  Who won ...</td>\n",
       "      <td>XPeng Inc.</td>\n",
       "      <td>1</td>\n",
       "    </tr>\n",
       "  </tbody>\n",
       "</table>\n",
       "<p>5039 rows × 18 columns</p>\n",
       "</div>"
      ]
     },
     "execution_count": 10,
     "metadata": {},
     "output_type": "execute_result"
    }
   ],
   "execution_count": 10
  },
  {
   "metadata": {
    "ExecuteTime": {
     "end_time": "2025-04-15T15:22:04.826821Z",
     "start_time": "2025-04-15T15:22:04.820357Z"
    }
   },
   "cell_type": "code",
   "source": [
    "false_positives = len(pump_dump_data[(pump_dump_data[\"model_prediction\"] == 1) & (pump_dump_data[\"price_anomaly\"] == 0)])\n",
    "false_negatives = len(pump_dump_data[(pump_dump_data[\"model_prediction\"] == 0) & (pump_dump_data[\"price_anomaly\"] == 1)])\n",
    "\n",
    "print(f\"False Positives: {false_positives}\")\n",
    "print(f\"False Negatives: {false_negatives}\")"
   ],
   "id": "408b227a189ed5c8",
   "outputs": [
    {
     "name": "stdout",
     "output_type": "stream",
     "text": [
      "False Positives: 4501\n",
      "False Negatives: 5853\n"
     ]
    }
   ],
   "execution_count": 11
  },
  {
   "metadata": {
    "ExecuteTime": {
     "end_time": "2025-04-15T15:22:04.836422Z",
     "start_time": "2025-04-15T15:22:04.827826Z"
    }
   },
   "cell_type": "code",
   "source": [
    "correlation_matrix = pump_dump_data[[\"price_anomaly\", \"model_prediction\"]].corr()\n",
    "print(correlation_matrix)"
   ],
   "id": "6a9bccd92c1eccb",
   "outputs": [
    {
     "name": "stdout",
     "output_type": "stream",
     "text": [
      "                  price_anomaly  model_prediction\n",
      "price_anomaly          1.000000          0.006243\n",
      "model_prediction       0.006243          1.000000\n"
     ]
    }
   ],
   "execution_count": 12
  },
  {
   "metadata": {
    "ExecuteTime": {
     "end_time": "2025-04-15T15:22:04.874918Z",
     "start_time": "2025-04-15T15:22:04.837427Z"
    }
   },
   "cell_type": "code",
   "source": [
    "from sklearn.metrics import precision_score, recall_score, f1_score, roc_auc_score\n",
    "\n",
    "precision = precision_score(pump_dump_data[\"price_anomaly\"], pump_dump_data[\"model_prediction\"])\n",
    "recall = recall_score(pump_dump_data[\"price_anomaly\"], pump_dump_data[\"model_prediction\"])\n",
    "f1 = f1_score(pump_dump_data[\"price_anomaly\"], pump_dump_data[\"model_prediction\"])\n",
    "roc_auc = roc_auc_score(pump_dump_data[\"price_anomaly\"], pump_dump_data[\"model_prediction\"])\n",
    "\n",
    "print(f\"Precision: {precision:.2f}\")\n",
    "print(f\"Recall: {recall:.2f}\")\n",
    "print(f\"F1-score: {f1:.2f}\")\n",
    "print(f\"ROC AUC: {roc_auc:.2f}\")"
   ],
   "id": "3d161d5a6f294fe6",
   "outputs": [
    {
     "name": "stdout",
     "output_type": "stream",
     "text": [
      "Precision: 0.11\n",
      "Recall: 0.08\n",
      "F1-score: 0.09\n",
      "ROC AUC: 0.50\n"
     ]
    }
   ],
   "execution_count": 13
  },
  {
   "metadata": {},
   "cell_type": "markdown",
   "source": [
    "Your model evaluation strategy centers on correlating NLP-detected pump-and-dump tweets with significant stock market price anomalies, identified through Isolation Forest. This method moves beyond standard NLP metrics by directly linking tweet predictions to real-world market impact. We quantify the model's success by measuring the percentage of total price anomalies captured by its predictions, effectively assessing its ability to identify tweets that coincide with manipulative market activity.\n",
    "\n",
    "Furthermore, we analyze false positives and false negatives to understand the model's precision and recall in this context. Time-based and user-based patterns are examined to provide deeper insights into when and where the model performs best, and which users are most associated with potential manipulation. Standard classification metrics like precision, recall, F1-score, and ROC AUC are also employed to provide a comprehensive evaluation.\n",
    "\n",
    "This approach evaluates the models by assessing their ability to predict tweets that directly correlate with unusual market behavior, a strong indicator of manipulation. This provides a more tangible measure of the model's effectiveness in detecting pump-and-dump schemes compared to traditional NLP metrics, as it focuses on the real-world financial impact of the predicted tweets."
   ],
   "id": "4cd6014660295445"
  },
  {
   "metadata": {},
   "cell_type": "code",
   "outputs": [],
   "execution_count": null,
   "source": "",
   "id": "d30a1ea846623c04"
  }
 ],
 "metadata": {
  "kernelspec": {
   "display_name": "Python 3",
   "language": "python",
   "name": "python3"
  },
  "language_info": {
   "codemirror_mode": {
    "name": "ipython",
    "version": 2
   },
   "file_extension": ".py",
   "mimetype": "text/x-python",
   "name": "python",
   "nbconvert_exporter": "python",
   "pygments_lexer": "ipython2",
   "version": "2.7.6"
  }
 },
 "nbformat": 4,
 "nbformat_minor": 5
}
