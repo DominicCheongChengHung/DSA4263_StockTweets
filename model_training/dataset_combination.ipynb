{
 "cells": [
  {
   "cell_type": "markdown",
   "metadata": {},
   "source": [
    "### Import data"
   ]
  },
  {
   "cell_type": "code",
   "execution_count": 1,
   "metadata": {},
   "outputs": [
    {
     "name": "stdout",
     "output_type": "stream",
     "text": [
      "  Stock    Datetime user.screen_name                id_str  \\\n",
      "0  AXTG  2021-03-25          UCitnow  1375142994920271872a   \n",
      "1  AXTG  2021-03-25          UCitnow  1375143141058080768a   \n",
      "2  AXTG  2021-03-25           Rad7RR  1375157484063584261a   \n",
      "3  AXTG  2021-03-25         GetScanz  1375176172099747845a   \n",
      "4  AXTG  2021-03-25  christinebarnum  1375176361560604679a   \n",
      "\n",
      "                                                text  Sentiment  Known_Pumper  \\\n",
      "0                    #rt  rt    axtg new intern ceo           0             0   \n",
      "1                rt  #rt  rt    axtg new intern ceo           0             0   \n",
      "2             axtg big otc  gainerrocketrocketrocket          1             0   \n",
      "3  todays top penny stock gainers\\n\\nlttgf axtg s...          1             0   \n",
      "4  rt  todays top penny stock gainers\\n\\nlttgf ax...          1             0   \n",
      "\n",
      "   Price_Region Inflection_Point  \\\n",
      "0           1.0              NaN   \n",
      "1           1.0              NaN   \n",
      "2           1.0              NaN   \n",
      "3           1.0              NaN   \n",
      "4           1.0              NaN   \n",
      "\n",
      "                                   mentioned_handles  ...  today  tomorrow  \\\n",
      "0  ['ldev117', 'UCitnow', 'ShortSqueezed1', 'EVO9...  ...    0.0       0.0   \n",
      "1  ['UCitnow', 'ldev117', 'UCitnow', 'ShortSqueez...  ...    0.0       0.0   \n",
      "2                                                NaN  ...    0.0       0.0   \n",
      "3                                                NaN  ...    0.0       0.0   \n",
      "4                                       ['GetScanz']  ...    0.0       0.0   \n",
      "\n",
      "   ttcm  update  vmhg  volume  wdlf  week  xrp  youre  \n",
      "0   0.0     0.0   0.0     0.0   0.0   0.0  0.0    0.0  \n",
      "1   0.0     0.0   0.0     0.0   0.0   0.0  0.0    0.0  \n",
      "2   0.0     0.0   0.0     0.0   0.0   0.0  0.0    0.0  \n",
      "3   0.0     0.0   0.0     0.0   0.0   0.0  0.0    0.0  \n",
      "4   0.0     0.0   0.0     0.0   0.0   0.0  0.0    0.0  \n",
      "\n",
      "[5 rows x 140 columns]\n"
     ]
    }
   ],
   "source": [
    "import pandas as pd\n",
    "\n",
    "# Load the data (if not already loaded)\n",
    "normal_data = pd.read_csv(\"../data/normal_data.csv\")\n",
    "tfidf_data = pd.read_csv(\"../data/tfidf_data.csv\")\n",
    "\n",
    "# Combine the datasets by index\n",
    "combined_df = pd.concat([normal_data.reset_index(drop=True),\n",
    "                         tfidf_data.reset_index(drop=True)],\n",
    "                        axis=1)\n",
    "\n",
    "# Preview the combined dataframe\n",
    "print(combined_df.head())\n",
    "\n",
    "# Optional: save to a new CSV\n",
    "combined_df.to_csv(\"../data/combined_stock_pumper_dataset.csv\", index=False)"
   ]
  }
 ],
 "metadata": {
  "kernelspec": {
   "display_name": "Python 3",
   "language": "python",
   "name": "python3"
  },
  "language_info": {
   "codemirror_mode": {
    "name": "ipython",
    "version": 3
   },
   "file_extension": ".py",
   "mimetype": "text/x-python",
   "name": "python",
   "nbconvert_exporter": "python",
   "pygments_lexer": "ipython3",
   "version": "3.11.9"
  }
 },
 "nbformat": 4,
 "nbformat_minor": 2
}
