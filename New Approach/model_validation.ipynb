{
 "cells": [
  {
   "cell_type": "code",
   "id": "initial_id",
   "metadata": {
    "collapsed": true,
    "ExecuteTime": {
     "end_time": "2025-04-14T05:02:58.217305Z",
     "start_time": "2025-04-14T05:02:57.632196Z"
    }
   },
   "source": [
    "from tf_idf_new import PumpDetection\n",
    "import pandas as pd\n",
    "import numpy as np\n",
    "import re"
   ],
   "outputs": [],
   "execution_count": 1
  },
  {
   "metadata": {},
   "cell_type": "markdown",
   "source": [
    "# This python notebook is to test the model on another dataset of tweets\n",
    "\n",
    "We will be using the stock market dataset to detect any price anomalies (detecting potential pump using Isolation Forest) and test the model\n",
    "\n",
    "We're detecting pump-and-dump schemes on Twitter by correlating NLP model predictions of manipulative tweets with stock market price anomalies identified via Isolation Forest. This analysis evaluates the model's effectiveness in capturing these anomalies, assesses false positive/negative rates, analyzes time-based patterns, and identifies key features and user behaviors associated with these schemes. We're aiming to quantify the model's impact on detecting market manipulation by comparing predicted pump-and-dump tweets to significant price fluctuations, while acknowledging potential challenges like causality vs. correlation, time lags, and data noise."
   ],
   "id": "1d0e56e274315d9d"
  },
  {
   "metadata": {
    "ExecuteTime": {
     "end_time": "2025-04-14T05:02:58.489485Z",
     "start_time": "2025-04-14T05:02:58.218310Z"
    }
   },
   "cell_type": "code",
   "source": [
    "test_data = pd.read_csv(r\"../data/stock_tweets_test_on_real_data.csv\")\n",
    "stock_data = pd.read_csv(r\"../data/stock_yfinance_data_test_on_real_data.csv\")"
   ],
   "id": "782580ce8761b8f3",
   "outputs": [],
   "execution_count": 2
  },
  {
   "metadata": {},
   "cell_type": "markdown",
   "source": "## Detecting Price Anomalies",
   "id": "39231d767ebc35f3"
  },
  {
   "metadata": {
    "ExecuteTime": {
     "end_time": "2025-04-14T05:02:59.078373Z",
     "start_time": "2025-04-14T05:02:58.725682Z"
    }
   },
   "cell_type": "code",
   "source": [
    "from sklearn.ensemble import IsolationForest\n",
    "def detect_pump_and_dump(stock_prices, tweets, lags=[1, 3, 5]):\n",
    "    \"\"\"Detects potential pump-and-dump schemes.\"\"\"\n",
    "\n",
    "    stock_prices['Date'] = pd.to_datetime(stock_prices['Date']) #convert to datetime\n",
    "    tweets['Date'] = pd.to_datetime(pd.to_datetime(tweets['Date']).dt.date) #extract only the date\n",
    "\n",
    "    for lag in lags:\n",
    "        stock_prices[f'price_change_{lag}'] = stock_prices['Close'].pct_change(periods=lag) #Capital C\n",
    "        stock_prices[f'volume_change_{lag}'] = stock_prices['Volume'].pct_change(periods=lag) #Capital V\n",
    "\n",
    "    # Use all price and volume change columns for anomaly detection\n",
    "    price_volume_features = [col for col in stock_prices.columns if 'change' in col]\n",
    "\n",
    "    stock_prices['price_anomaly'] = IsolationForest().fit_predict(stock_prices[price_volume_features])\n",
    "\n",
    "    merged_data = pd.merge(stock_prices, tweets, on=['Date', 'Stock Name'], how='inner')\n",
    "\n",
    "\n",
    "    return merged_data\n",
    "\n",
    "pump_dump_data = detect_pump_and_dump(stock_data, test_data, lags=[1, 3, 5])\n",
    "pump_dump_data['price_anomaly'] = (pump_dump_data['price_anomaly'] == -1).astype(int)"
   ],
   "id": "7cb264aced4023da",
   "outputs": [],
   "execution_count": 3
  },
  {
   "metadata": {
    "ExecuteTime": {
     "end_time": "2025-04-14T05:03:01.700879Z",
     "start_time": "2025-04-14T05:03:01.694815Z"
    }
   },
   "cell_type": "code",
   "source": "pump_dump_data[\"price_anomaly\"].value_counts()",
   "id": "cfc9e556edffcb0a",
   "outputs": [
    {
     "data": {
      "text/plain": [
       "price_anomaly\n",
       "0    57032\n",
       "1     6644\n",
       "Name: count, dtype: int64"
      ]
     },
     "execution_count": 4,
     "metadata": {},
     "output_type": "execute_result"
    }
   ],
   "execution_count": 4
  },
  {
   "metadata": {},
   "cell_type": "markdown",
   "source": "## NLP Model Prediction",
   "id": "9d70eab5f000aa5"
  },
  {
   "metadata": {
    "ExecuteTime": {
     "end_time": "2025-04-14T05:03:02.758684Z",
     "start_time": "2025-04-14T05:03:02.709693Z"
    }
   },
   "cell_type": "code",
   "source": [
    "rf_path = [\n",
    "    r\"model/random_forest_classification_pipeline.joblib\",\n",
    "    r\"model/random_forest_classification_vectorizer.joblib\"\n",
    "]\n",
    "\n",
    "model = PumpDetection(rf_path[0], rf_path[1])"
   ],
   "id": "28b442136518b2a1",
   "outputs": [],
   "execution_count": 5
  },
  {
   "metadata": {
    "ExecuteTime": {
     "end_time": "2025-04-14T05:09:41.426391Z",
     "start_time": "2025-04-14T05:03:10.765711Z"
    }
   },
   "cell_type": "code",
   "source": "pump_dump_data[\"model_prediction\"] = model.predict(pump_dump_data[\"Tweet\"])",
   "id": "6753f155fc14852",
   "outputs": [
    {
     "name": "stdout",
     "output_type": "stream",
     "text": [
      "Translation Error: No features in text.\n"
     ]
    }
   ],
   "execution_count": 6
  },
  {
   "metadata": {
    "ExecuteTime": {
     "end_time": "2025-04-14T05:09:41.432180Z",
     "start_time": "2025-04-14T05:09:41.427672Z"
    }
   },
   "cell_type": "code",
   "source": "pump_dump_data[\"model_prediction\"].value_counts()",
   "id": "581630baf360a0ce",
   "outputs": [
    {
     "data": {
      "text/plain": [
       "model_prediction\n",
       "0    35653\n",
       "1    28023\n",
       "Name: count, dtype: int64"
      ]
     },
     "execution_count": 7,
     "metadata": {},
     "output_type": "execute_result"
    }
   ],
   "execution_count": 7
  },
  {
   "metadata": {
    "ExecuteTime": {
     "end_time": "2025-04-14T05:09:41.442500Z",
     "start_time": "2025-04-14T05:09:41.432180Z"
    }
   },
   "cell_type": "code",
   "source": [
    "total_price_anomaly = pump_dump_data[\"price_anomaly\"].sum()\n",
    "predicted_pump_tweet = pump_dump_data[pump_dump_data[\"model_prediction\"] == 1]\n",
    "number_of_predicted_pump_tweet_resulted_in_price_anomaly = predicted_pump_tweet[\"price_anomaly\"].sum()\n",
    "\n",
    "percentage_captured = (number_of_predicted_pump_tweet_resulted_in_price_anomaly / total_price_anomaly) * 100\n",
    "print(f\"Total Price Anomaly: {total_price_anomaly}\")\n",
    "print(f\"Price Anomaly Captured by Predicted Pump Tweets: {number_of_predicted_pump_tweet_resulted_in_price_anomaly}\")\n",
    "print(f\"Percentage of Price Anomaly Captured: {percentage_captured:.2f}%\")"
   ],
   "id": "5290714824bbcf5e",
   "outputs": [
    {
     "name": "stdout",
     "output_type": "stream",
     "text": [
      "Total Price Anomaly: 6644\n",
      "Price Anomaly Captured by Predicted Pump Tweets: 2864\n",
      "Percentage of Price Anomaly Captured: 43.11%\n"
     ]
    }
   ],
   "execution_count": 8
  },
  {
   "metadata": {
    "ExecuteTime": {
     "end_time": "2025-04-14T05:20:42.167068Z",
     "start_time": "2025-04-14T05:20:41.870964Z"
    }
   },
   "cell_type": "code",
   "source": "predicted_pump_tweet.to_csv(r\"../data/flagged_tweets_validation.csv\")",
   "id": "32cfedf716f4ce96",
   "outputs": [],
   "execution_count": 11
  },
  {
   "metadata": {
    "ExecuteTime": {
     "end_time": "2025-04-14T05:18:50.090953Z",
     "start_time": "2025-04-14T05:18:50.081756Z"
    }
   },
   "cell_type": "code",
   "source": "predicted_pump_tweet",
   "id": "bceee78ba37013a0",
   "outputs": [
    {
     "data": {
      "text/plain": [
       "            Date        Open        High         Low       Close   Adj Close  \\\n",
       "3     2021-09-30  260.333344  263.043335  258.333344  258.493347  258.493347   \n",
       "10    2021-09-30  260.333344  263.043335  258.333344  258.493347  258.493347   \n",
       "13    2021-09-30  260.333344  263.043335  258.333344  258.493347  258.493347   \n",
       "16    2021-09-30  260.333344  263.043335  258.333344  258.493347  258.493347   \n",
       "18    2021-09-30  260.333344  263.043335  258.333344  258.493347  258.493347   \n",
       "...          ...         ...         ...         ...         ...         ...   \n",
       "63663 2022-07-01   32.869999   33.020000   29.549999   30.280001   30.280001   \n",
       "63668 2022-08-24   18.530001   19.920000   18.500000   19.080000   19.080000   \n",
       "63669 2022-08-25   19.370001   19.930000   18.590000   19.440001   19.440001   \n",
       "63672 2022-09-07   15.750000   16.530001   15.630000   16.000000   16.000000   \n",
       "63674 2022-09-19   14.300000   15.725000   14.290000   15.640000   15.640000   \n",
       "\n",
       "         Volume Stock Name  price_change_1  volume_change_1  price_change_3  \\\n",
       "3      53868000       TSLA             NaN              NaN             NaN   \n",
       "10     53868000       TSLA             NaN              NaN             NaN   \n",
       "13     53868000       TSLA             NaN              NaN             NaN   \n",
       "16     53868000       TSLA             NaN              NaN             NaN   \n",
       "18     53868000       TSLA             NaN              NaN             NaN   \n",
       "...         ...        ...             ...              ...             ...   \n",
       "63663  12633000       XPEV       -0.045999         0.302103       -0.072872   \n",
       "63668  11497500       XPEV        0.018687        -0.600812       -0.101695   \n",
       "63669  19912500       XPEV        0.018868         0.731898       -0.074286   \n",
       "63672  14641500       XPEV        0.006289        -0.182555       -0.076746   \n",
       "63674  18193100       XPEV        0.074176        -0.316183       -0.023720   \n",
       "\n",
       "       volume_change_3  price_change_5  volume_change_5  price_anomaly  \\\n",
       "3                  NaN             NaN              NaN              0   \n",
       "10                 NaN             NaN              NaN              0   \n",
       "13                 NaN             NaN              NaN              0   \n",
       "16                 NaN             NaN              NaN              0   \n",
       "18                 NaN             NaN              NaN              0   \n",
       "...                ...             ...              ...            ...   \n",
       "63663        -0.106552       -0.141967        -0.174939              0   \n",
       "63668         0.701090       -0.147072         0.904758              0   \n",
       "63669         1.281529       -0.118767         1.896364              1   \n",
       "63672        -0.134290       -0.123768         0.010853              0   \n",
       "63674         0.082323       -0.044010        -0.140623              0   \n",
       "\n",
       "                                                   Tweet Company Name  \\\n",
       "3      California DMV today issued autonomous vehicle...  Tesla, Inc.   \n",
       "10     Decided to take Uber Black to the service cent...  Tesla, Inc.   \n",
       "13     $TSLA Double inside day right above support. h...  Tesla, Inc.   \n",
       "16     Anyone @CNBC @jimcramer @Lebeaucarnews want to...  Tesla, Inc.   \n",
       "18     There will be two kinds of automotive companie...  Tesla, Inc.   \n",
       "...                                                  ...          ...   \n",
       "63663  $NIO $XPEV $LI Delivery Numbers Out.  Who won ...   XPeng Inc.   \n",
       "63668  XPENG G9.\\nFor a more immersive drive.\\n#Earni...   XPeng Inc.   \n",
       "63669  Worst performing large cap stocks so far in 20...   XPeng Inc.   \n",
       "63672  Insurance registrations: NIO sells 2,882 vehic...   XPeng Inc.   \n",
       "63674  Analysts are projecting these 10 tech stocks t...   XPeng Inc.   \n",
       "\n",
       "       model_prediction  \n",
       "3                     1  \n",
       "10                    1  \n",
       "13                    1  \n",
       "16                    1  \n",
       "18                    1  \n",
       "...                 ...  \n",
       "63663                 1  \n",
       "63668                 1  \n",
       "63669                 1  \n",
       "63672                 1  \n",
       "63674                 1  \n",
       "\n",
       "[28023 rows x 18 columns]"
      ],
      "text/html": [
       "<div>\n",
       "<style scoped>\n",
       "    .dataframe tbody tr th:only-of-type {\n",
       "        vertical-align: middle;\n",
       "    }\n",
       "\n",
       "    .dataframe tbody tr th {\n",
       "        vertical-align: top;\n",
       "    }\n",
       "\n",
       "    .dataframe thead th {\n",
       "        text-align: right;\n",
       "    }\n",
       "</style>\n",
       "<table border=\"1\" class=\"dataframe\">\n",
       "  <thead>\n",
       "    <tr style=\"text-align: right;\">\n",
       "      <th></th>\n",
       "      <th>Date</th>\n",
       "      <th>Open</th>\n",
       "      <th>High</th>\n",
       "      <th>Low</th>\n",
       "      <th>Close</th>\n",
       "      <th>Adj Close</th>\n",
       "      <th>Volume</th>\n",
       "      <th>Stock Name</th>\n",
       "      <th>price_change_1</th>\n",
       "      <th>volume_change_1</th>\n",
       "      <th>price_change_3</th>\n",
       "      <th>volume_change_3</th>\n",
       "      <th>price_change_5</th>\n",
       "      <th>volume_change_5</th>\n",
       "      <th>price_anomaly</th>\n",
       "      <th>Tweet</th>\n",
       "      <th>Company Name</th>\n",
       "      <th>model_prediction</th>\n",
       "    </tr>\n",
       "  </thead>\n",
       "  <tbody>\n",
       "    <tr>\n",
       "      <th>3</th>\n",
       "      <td>2021-09-30</td>\n",
       "      <td>260.333344</td>\n",
       "      <td>263.043335</td>\n",
       "      <td>258.333344</td>\n",
       "      <td>258.493347</td>\n",
       "      <td>258.493347</td>\n",
       "      <td>53868000</td>\n",
       "      <td>TSLA</td>\n",
       "      <td>NaN</td>\n",
       "      <td>NaN</td>\n",
       "      <td>NaN</td>\n",
       "      <td>NaN</td>\n",
       "      <td>NaN</td>\n",
       "      <td>NaN</td>\n",
       "      <td>0</td>\n",
       "      <td>California DMV today issued autonomous vehicle...</td>\n",
       "      <td>Tesla, Inc.</td>\n",
       "      <td>1</td>\n",
       "    </tr>\n",
       "    <tr>\n",
       "      <th>10</th>\n",
       "      <td>2021-09-30</td>\n",
       "      <td>260.333344</td>\n",
       "      <td>263.043335</td>\n",
       "      <td>258.333344</td>\n",
       "      <td>258.493347</td>\n",
       "      <td>258.493347</td>\n",
       "      <td>53868000</td>\n",
       "      <td>TSLA</td>\n",
       "      <td>NaN</td>\n",
       "      <td>NaN</td>\n",
       "      <td>NaN</td>\n",
       "      <td>NaN</td>\n",
       "      <td>NaN</td>\n",
       "      <td>NaN</td>\n",
       "      <td>0</td>\n",
       "      <td>Decided to take Uber Black to the service cent...</td>\n",
       "      <td>Tesla, Inc.</td>\n",
       "      <td>1</td>\n",
       "    </tr>\n",
       "    <tr>\n",
       "      <th>13</th>\n",
       "      <td>2021-09-30</td>\n",
       "      <td>260.333344</td>\n",
       "      <td>263.043335</td>\n",
       "      <td>258.333344</td>\n",
       "      <td>258.493347</td>\n",
       "      <td>258.493347</td>\n",
       "      <td>53868000</td>\n",
       "      <td>TSLA</td>\n",
       "      <td>NaN</td>\n",
       "      <td>NaN</td>\n",
       "      <td>NaN</td>\n",
       "      <td>NaN</td>\n",
       "      <td>NaN</td>\n",
       "      <td>NaN</td>\n",
       "      <td>0</td>\n",
       "      <td>$TSLA Double inside day right above support. h...</td>\n",
       "      <td>Tesla, Inc.</td>\n",
       "      <td>1</td>\n",
       "    </tr>\n",
       "    <tr>\n",
       "      <th>16</th>\n",
       "      <td>2021-09-30</td>\n",
       "      <td>260.333344</td>\n",
       "      <td>263.043335</td>\n",
       "      <td>258.333344</td>\n",
       "      <td>258.493347</td>\n",
       "      <td>258.493347</td>\n",
       "      <td>53868000</td>\n",
       "      <td>TSLA</td>\n",
       "      <td>NaN</td>\n",
       "      <td>NaN</td>\n",
       "      <td>NaN</td>\n",
       "      <td>NaN</td>\n",
       "      <td>NaN</td>\n",
       "      <td>NaN</td>\n",
       "      <td>0</td>\n",
       "      <td>Anyone @CNBC @jimcramer @Lebeaucarnews want to...</td>\n",
       "      <td>Tesla, Inc.</td>\n",
       "      <td>1</td>\n",
       "    </tr>\n",
       "    <tr>\n",
       "      <th>18</th>\n",
       "      <td>2021-09-30</td>\n",
       "      <td>260.333344</td>\n",
       "      <td>263.043335</td>\n",
       "      <td>258.333344</td>\n",
       "      <td>258.493347</td>\n",
       "      <td>258.493347</td>\n",
       "      <td>53868000</td>\n",
       "      <td>TSLA</td>\n",
       "      <td>NaN</td>\n",
       "      <td>NaN</td>\n",
       "      <td>NaN</td>\n",
       "      <td>NaN</td>\n",
       "      <td>NaN</td>\n",
       "      <td>NaN</td>\n",
       "      <td>0</td>\n",
       "      <td>There will be two kinds of automotive companie...</td>\n",
       "      <td>Tesla, Inc.</td>\n",
       "      <td>1</td>\n",
       "    </tr>\n",
       "    <tr>\n",
       "      <th>...</th>\n",
       "      <td>...</td>\n",
       "      <td>...</td>\n",
       "      <td>...</td>\n",
       "      <td>...</td>\n",
       "      <td>...</td>\n",
       "      <td>...</td>\n",
       "      <td>...</td>\n",
       "      <td>...</td>\n",
       "      <td>...</td>\n",
       "      <td>...</td>\n",
       "      <td>...</td>\n",
       "      <td>...</td>\n",
       "      <td>...</td>\n",
       "      <td>...</td>\n",
       "      <td>...</td>\n",
       "      <td>...</td>\n",
       "      <td>...</td>\n",
       "      <td>...</td>\n",
       "    </tr>\n",
       "    <tr>\n",
       "      <th>63663</th>\n",
       "      <td>2022-07-01</td>\n",
       "      <td>32.869999</td>\n",
       "      <td>33.020000</td>\n",
       "      <td>29.549999</td>\n",
       "      <td>30.280001</td>\n",
       "      <td>30.280001</td>\n",
       "      <td>12633000</td>\n",
       "      <td>XPEV</td>\n",
       "      <td>-0.045999</td>\n",
       "      <td>0.302103</td>\n",
       "      <td>-0.072872</td>\n",
       "      <td>-0.106552</td>\n",
       "      <td>-0.141967</td>\n",
       "      <td>-0.174939</td>\n",
       "      <td>0</td>\n",
       "      <td>$NIO $XPEV $LI Delivery Numbers Out.  Who won ...</td>\n",
       "      <td>XPeng Inc.</td>\n",
       "      <td>1</td>\n",
       "    </tr>\n",
       "    <tr>\n",
       "      <th>63668</th>\n",
       "      <td>2022-08-24</td>\n",
       "      <td>18.530001</td>\n",
       "      <td>19.920000</td>\n",
       "      <td>18.500000</td>\n",
       "      <td>19.080000</td>\n",
       "      <td>19.080000</td>\n",
       "      <td>11497500</td>\n",
       "      <td>XPEV</td>\n",
       "      <td>0.018687</td>\n",
       "      <td>-0.600812</td>\n",
       "      <td>-0.101695</td>\n",
       "      <td>0.701090</td>\n",
       "      <td>-0.147072</td>\n",
       "      <td>0.904758</td>\n",
       "      <td>0</td>\n",
       "      <td>XPENG G9.\\nFor a more immersive drive.\\n#Earni...</td>\n",
       "      <td>XPeng Inc.</td>\n",
       "      <td>1</td>\n",
       "    </tr>\n",
       "    <tr>\n",
       "      <th>63669</th>\n",
       "      <td>2022-08-25</td>\n",
       "      <td>19.370001</td>\n",
       "      <td>19.930000</td>\n",
       "      <td>18.590000</td>\n",
       "      <td>19.440001</td>\n",
       "      <td>19.440001</td>\n",
       "      <td>19912500</td>\n",
       "      <td>XPEV</td>\n",
       "      <td>0.018868</td>\n",
       "      <td>0.731898</td>\n",
       "      <td>-0.074286</td>\n",
       "      <td>1.281529</td>\n",
       "      <td>-0.118767</td>\n",
       "      <td>1.896364</td>\n",
       "      <td>1</td>\n",
       "      <td>Worst performing large cap stocks so far in 20...</td>\n",
       "      <td>XPeng Inc.</td>\n",
       "      <td>1</td>\n",
       "    </tr>\n",
       "    <tr>\n",
       "      <th>63672</th>\n",
       "      <td>2022-09-07</td>\n",
       "      <td>15.750000</td>\n",
       "      <td>16.530001</td>\n",
       "      <td>15.630000</td>\n",
       "      <td>16.000000</td>\n",
       "      <td>16.000000</td>\n",
       "      <td>14641500</td>\n",
       "      <td>XPEV</td>\n",
       "      <td>0.006289</td>\n",
       "      <td>-0.182555</td>\n",
       "      <td>-0.076746</td>\n",
       "      <td>-0.134290</td>\n",
       "      <td>-0.123768</td>\n",
       "      <td>0.010853</td>\n",
       "      <td>0</td>\n",
       "      <td>Insurance registrations: NIO sells 2,882 vehic...</td>\n",
       "      <td>XPeng Inc.</td>\n",
       "      <td>1</td>\n",
       "    </tr>\n",
       "    <tr>\n",
       "      <th>63674</th>\n",
       "      <td>2022-09-19</td>\n",
       "      <td>14.300000</td>\n",
       "      <td>15.725000</td>\n",
       "      <td>14.290000</td>\n",
       "      <td>15.640000</td>\n",
       "      <td>15.640000</td>\n",
       "      <td>18193100</td>\n",
       "      <td>XPEV</td>\n",
       "      <td>0.074176</td>\n",
       "      <td>-0.316183</td>\n",
       "      <td>-0.023720</td>\n",
       "      <td>0.082323</td>\n",
       "      <td>-0.044010</td>\n",
       "      <td>-0.140623</td>\n",
       "      <td>0</td>\n",
       "      <td>Analysts are projecting these 10 tech stocks t...</td>\n",
       "      <td>XPeng Inc.</td>\n",
       "      <td>1</td>\n",
       "    </tr>\n",
       "  </tbody>\n",
       "</table>\n",
       "<p>28023 rows × 18 columns</p>\n",
       "</div>"
      ]
     },
     "execution_count": 10,
     "metadata": {},
     "output_type": "execute_result"
    }
   ],
   "execution_count": 10
  },
  {
   "metadata": {
    "ExecuteTime": {
     "end_time": "2025-04-13T11:59:29.061052Z",
     "start_time": "2025-04-13T11:59:29.054196Z"
    }
   },
   "cell_type": "code",
   "source": [
    "false_positives = len(pump_dump_data[(pump_dump_data[\"model_prediction\"] == 1) & (pump_dump_data[\"price_anomaly\"] == 0)])\n",
    "false_negatives = len(pump_dump_data[(pump_dump_data[\"model_prediction\"] == 0) & (pump_dump_data[\"price_anomaly\"] == 1)])\n",
    "\n",
    "print(f\"False Positives: {false_positives}\")\n",
    "print(f\"False Negatives: {false_negatives}\")"
   ],
   "id": "408b227a189ed5c8",
   "outputs": [
    {
     "name": "stdout",
     "output_type": "stream",
     "text": [
      "False Positives: 25502\n",
      "False Negatives: 3254\n"
     ]
    }
   ],
   "execution_count": 13
  },
  {
   "metadata": {
    "ExecuteTime": {
     "end_time": "2025-04-13T12:00:11.794859Z",
     "start_time": "2025-04-13T12:00:11.789590Z"
    }
   },
   "cell_type": "code",
   "source": [
    "correlation_matrix = pump_dump_data[[\"price_anomaly\", \"model_prediction\"]].corr()\n",
    "print(correlation_matrix)"
   ],
   "id": "6a9bccd92c1eccb",
   "outputs": [
    {
     "name": "stdout",
     "output_type": "stream",
     "text": [
      "                  price_anomaly  model_prediction\n",
      "price_anomaly          1.000000         -0.002259\n",
      "model_prediction      -0.002259          1.000000\n"
     ]
    }
   ],
   "execution_count": 16
  },
  {
   "metadata": {
    "ExecuteTime": {
     "end_time": "2025-04-13T12:00:54.177008Z",
     "start_time": "2025-04-13T12:00:54.147789Z"
    }
   },
   "cell_type": "code",
   "source": [
    "from sklearn.metrics import precision_score, recall_score, f1_score, roc_auc_score\n",
    "\n",
    "precision = precision_score(pump_dump_data[\"price_anomaly\"], pump_dump_data[\"model_prediction\"])\n",
    "recall = recall_score(pump_dump_data[\"price_anomaly\"], pump_dump_data[\"model_prediction\"])\n",
    "f1 = f1_score(pump_dump_data[\"price_anomaly\"], pump_dump_data[\"model_prediction\"])\n",
    "roc_auc = roc_auc_score(pump_dump_data[\"price_anomaly\"], pump_dump_data[\"model_prediction\"])\n",
    "\n",
    "print(f\"Precision: {precision:.2f}\")\n",
    "print(f\"Recall: {recall:.2f}\")\n",
    "print(f\"F1-score: {f1:.2f}\")\n",
    "print(f\"ROC AUC: {roc_auc:.2f}\")"
   ],
   "id": "3d161d5a6f294fe6",
   "outputs": [
    {
     "name": "stdout",
     "output_type": "stream",
     "text": [
      "Precision: 0.09\n",
      "Recall: 0.44\n",
      "F1-score: 0.15\n",
      "ROC AUC: 0.50\n"
     ]
    }
   ],
   "execution_count": 19
  },
  {
   "metadata": {},
   "cell_type": "markdown",
   "source": [
    "Your model evaluation strategy centers on correlating NLP-detected pump-and-dump tweets with significant stock market price anomalies, identified through Isolation Forest. This method moves beyond standard NLP metrics by directly linking tweet predictions to real-world market impact. We quantify the model's success by measuring the percentage of total price anomalies captured by its predictions, effectively assessing its ability to identify tweets that coincide with manipulative market activity.\n",
    "\n",
    "Furthermore, we analyze false positives and false negatives to understand the model's precision and recall in this context. Time-based and user-based patterns are examined to provide deeper insights into when and where the model performs best, and which users are most associated with potential manipulation. Standard classification metrics like precision, recall, F1-score, and ROC AUC are also employed to provide a comprehensive evaluation.\n",
    "\n",
    "This approach evaluates the models by assessing their ability to predict tweets that directly correlate with unusual market behavior, a strong indicator of manipulation. This provides a more tangible measure of the model's effectiveness in detecting pump-and-dump schemes compared to traditional NLP metrics, as it focuses on the real-world financial impact of the predicted tweets."
   ],
   "id": "4cd6014660295445"
  },
  {
   "metadata": {},
   "cell_type": "code",
   "outputs": [],
   "execution_count": null,
   "source": "",
   "id": "d30a1ea846623c04"
  }
 ],
 "metadata": {
  "kernelspec": {
   "display_name": "Python 3",
   "language": "python",
   "name": "python3"
  },
  "language_info": {
   "codemirror_mode": {
    "name": "ipython",
    "version": 2
   },
   "file_extension": ".py",
   "mimetype": "text/x-python",
   "name": "python",
   "nbconvert_exporter": "python",
   "pygments_lexer": "ipython2",
   "version": "2.7.6"
  }
 },
 "nbformat": 4,
 "nbformat_minor": 5
}
