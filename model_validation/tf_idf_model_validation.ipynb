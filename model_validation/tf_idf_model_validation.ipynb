{
 "cells": [
  {
   "cell_type": "code",
   "id": "initial_id",
   "metadata": {
    "collapsed": true,
    "ExecuteTime": {
     "end_time": "2025-04-08T13:10:35.301925Z",
     "start_time": "2025-04-08T13:10:35.247345Z"
    }
   },
   "source": [
    "from tf_idf_test import RecommendationSystem\n",
    "import pandas as pd\n",
    "import numpy as np\n",
    "import re"
   ],
   "outputs": [],
   "execution_count": 4
  },
  {
   "metadata": {
    "ExecuteTime": {
     "end_time": "2025-04-08T13:10:36.755340Z",
     "start_time": "2025-04-08T13:10:36.239557Z"
    }
   },
   "cell_type": "code",
   "source": [
    "test_data = pd.read_csv(r\"../data/stock_tweets_test_on_real_data.csv\")\n",
    "print(test_data.columns)\n",
    "print(test_data.head())\n"
   ],
   "id": "b7cef9612bdce46a",
   "outputs": [
    {
     "name": "stdout",
     "output_type": "stream",
     "text": [
      "Index(['Date', 'Tweet', 'Stock Name', 'Company Name'], dtype='object')\n",
      "                        Date  \\\n",
      "0  2022-09-29 23:41:16+00:00   \n",
      "1  2022-09-29 23:24:43+00:00   \n",
      "2  2022-09-29 23:18:08+00:00   \n",
      "3  2022-09-29 22:40:07+00:00   \n",
      "4  2022-09-29 22:27:05+00:00   \n",
      "\n",
      "                                               Tweet Stock Name Company Name  \n",
      "0  Mainstream media has done an amazing job at br...       TSLA  Tesla, Inc.  \n",
      "1  Tesla delivery estimates are at around 364k fr...       TSLA  Tesla, Inc.  \n",
      "2  3/ Even if I include 63.0M unvested RSUs as of...       TSLA  Tesla, Inc.  \n",
      "3  @RealDanODowd @WholeMarsBlog @Tesla Hahaha why...       TSLA  Tesla, Inc.  \n",
      "4  @RealDanODowd @Tesla Stop trying to kill kids,...       TSLA  Tesla, Inc.  \n"
     ]
    }
   ],
   "execution_count": 5
  },
  {
   "metadata": {
    "ExecuteTime": {
     "end_time": "2025-04-08T13:49:46.907187Z",
     "start_time": "2025-04-08T13:49:46.510444Z"
    }
   },
   "cell_type": "code",
   "source": [
    "lr_path = [\n",
    "    r\"../model_training/tfidf_training/lr_pipeline.pkl\",\n",
    "    r\"../model_training/tfidf_training/lr_vectorizer.pkl\"\n",
    "]\n",
    "gb_path = [\n",
    "    r\"../model_training/tfidf_training/gb_pipeline.pkl\",\n",
    "    r\"../model_training/tfidf_training/gb_vectorizer.pkl\"\n",
    "]\n",
    "lr_model = RecommendationSystem(lr_path[0], lr_path[1])\n",
    "gb_model = RecommendationSystem(gb_path[0], gb_path[1])"
   ],
   "id": "d66ecc531d989a8d",
   "outputs": [],
   "execution_count": 18
  },
  {
   "metadata": {
    "ExecuteTime": {
     "end_time": "2025-04-08T13:10:39.083861Z",
     "start_time": "2025-04-08T13:10:39.064480Z"
    }
   },
   "cell_type": "code",
   "source": "test_data",
   "id": "797bb08f1fe8b622",
   "outputs": [
    {
     "data": {
      "text/plain": [
       "                            Date  \\\n",
       "0      2022-09-29 23:41:16+00:00   \n",
       "1      2022-09-29 23:24:43+00:00   \n",
       "2      2022-09-29 23:18:08+00:00   \n",
       "3      2022-09-29 22:40:07+00:00   \n",
       "4      2022-09-29 22:27:05+00:00   \n",
       "...                          ...   \n",
       "80788  2021-10-07 17:11:57+00:00   \n",
       "80789  2021-10-04 17:05:59+00:00   \n",
       "80790  2021-10-01 04:43:41+00:00   \n",
       "80791  2021-10-01 00:03:32+00:00   \n",
       "80792  2021-09-30 10:22:52+00:00   \n",
       "\n",
       "                                                   Tweet Stock Name  \\\n",
       "0      Mainstream media has done an amazing job at br...       TSLA   \n",
       "1      Tesla delivery estimates are at around 364k fr...       TSLA   \n",
       "2      3/ Even if I include 63.0M unvested RSUs as of...       TSLA   \n",
       "3      @RealDanODowd @WholeMarsBlog @Tesla Hahaha why...       TSLA   \n",
       "4      @RealDanODowd @Tesla Stop trying to kill kids,...       TSLA   \n",
       "...                                                  ...        ...   \n",
       "80788  Some of the fastest growing tech stocks on the...       XPEV   \n",
       "80789  With earnings on the horizon, here is a quick ...       XPEV   \n",
       "80790  Our record delivery results are a testimony of...       XPEV   \n",
       "80791  We delivered 10,412 Smart EVs in Sep 2021, rea...       XPEV   \n",
       "80792  Why can XPeng P5 deliver outstanding performan...       XPEV   \n",
       "\n",
       "      Company Name  \n",
       "0      Tesla, Inc.  \n",
       "1      Tesla, Inc.  \n",
       "2      Tesla, Inc.  \n",
       "3      Tesla, Inc.  \n",
       "4      Tesla, Inc.  \n",
       "...            ...  \n",
       "80788   XPeng Inc.  \n",
       "80789   XPeng Inc.  \n",
       "80790   XPeng Inc.  \n",
       "80791   XPeng Inc.  \n",
       "80792   XPeng Inc.  \n",
       "\n",
       "[80793 rows x 4 columns]"
      ],
      "text/html": [
       "<div>\n",
       "<style scoped>\n",
       "    .dataframe tbody tr th:only-of-type {\n",
       "        vertical-align: middle;\n",
       "    }\n",
       "\n",
       "    .dataframe tbody tr th {\n",
       "        vertical-align: top;\n",
       "    }\n",
       "\n",
       "    .dataframe thead th {\n",
       "        text-align: right;\n",
       "    }\n",
       "</style>\n",
       "<table border=\"1\" class=\"dataframe\">\n",
       "  <thead>\n",
       "    <tr style=\"text-align: right;\">\n",
       "      <th></th>\n",
       "      <th>Date</th>\n",
       "      <th>Tweet</th>\n",
       "      <th>Stock Name</th>\n",
       "      <th>Company Name</th>\n",
       "    </tr>\n",
       "  </thead>\n",
       "  <tbody>\n",
       "    <tr>\n",
       "      <th>0</th>\n",
       "      <td>2022-09-29 23:41:16+00:00</td>\n",
       "      <td>Mainstream media has done an amazing job at br...</td>\n",
       "      <td>TSLA</td>\n",
       "      <td>Tesla, Inc.</td>\n",
       "    </tr>\n",
       "    <tr>\n",
       "      <th>1</th>\n",
       "      <td>2022-09-29 23:24:43+00:00</td>\n",
       "      <td>Tesla delivery estimates are at around 364k fr...</td>\n",
       "      <td>TSLA</td>\n",
       "      <td>Tesla, Inc.</td>\n",
       "    </tr>\n",
       "    <tr>\n",
       "      <th>2</th>\n",
       "      <td>2022-09-29 23:18:08+00:00</td>\n",
       "      <td>3/ Even if I include 63.0M unvested RSUs as of...</td>\n",
       "      <td>TSLA</td>\n",
       "      <td>Tesla, Inc.</td>\n",
       "    </tr>\n",
       "    <tr>\n",
       "      <th>3</th>\n",
       "      <td>2022-09-29 22:40:07+00:00</td>\n",
       "      <td>@RealDanODowd @WholeMarsBlog @Tesla Hahaha why...</td>\n",
       "      <td>TSLA</td>\n",
       "      <td>Tesla, Inc.</td>\n",
       "    </tr>\n",
       "    <tr>\n",
       "      <th>4</th>\n",
       "      <td>2022-09-29 22:27:05+00:00</td>\n",
       "      <td>@RealDanODowd @Tesla Stop trying to kill kids,...</td>\n",
       "      <td>TSLA</td>\n",
       "      <td>Tesla, Inc.</td>\n",
       "    </tr>\n",
       "    <tr>\n",
       "      <th>...</th>\n",
       "      <td>...</td>\n",
       "      <td>...</td>\n",
       "      <td>...</td>\n",
       "      <td>...</td>\n",
       "    </tr>\n",
       "    <tr>\n",
       "      <th>80788</th>\n",
       "      <td>2021-10-07 17:11:57+00:00</td>\n",
       "      <td>Some of the fastest growing tech stocks on the...</td>\n",
       "      <td>XPEV</td>\n",
       "      <td>XPeng Inc.</td>\n",
       "    </tr>\n",
       "    <tr>\n",
       "      <th>80789</th>\n",
       "      <td>2021-10-04 17:05:59+00:00</td>\n",
       "      <td>With earnings on the horizon, here is a quick ...</td>\n",
       "      <td>XPEV</td>\n",
       "      <td>XPeng Inc.</td>\n",
       "    </tr>\n",
       "    <tr>\n",
       "      <th>80790</th>\n",
       "      <td>2021-10-01 04:43:41+00:00</td>\n",
       "      <td>Our record delivery results are a testimony of...</td>\n",
       "      <td>XPEV</td>\n",
       "      <td>XPeng Inc.</td>\n",
       "    </tr>\n",
       "    <tr>\n",
       "      <th>80791</th>\n",
       "      <td>2021-10-01 00:03:32+00:00</td>\n",
       "      <td>We delivered 10,412 Smart EVs in Sep 2021, rea...</td>\n",
       "      <td>XPEV</td>\n",
       "      <td>XPeng Inc.</td>\n",
       "    </tr>\n",
       "    <tr>\n",
       "      <th>80792</th>\n",
       "      <td>2021-09-30 10:22:52+00:00</td>\n",
       "      <td>Why can XPeng P5 deliver outstanding performan...</td>\n",
       "      <td>XPEV</td>\n",
       "      <td>XPeng Inc.</td>\n",
       "    </tr>\n",
       "  </tbody>\n",
       "</table>\n",
       "<p>80793 rows × 4 columns</p>\n",
       "</div>"
      ]
     },
     "execution_count": 7,
     "metadata": {},
     "output_type": "execute_result"
    }
   ],
   "execution_count": 7
  },
  {
   "metadata": {
    "ExecuteTime": {
     "end_time": "2025-04-08T13:10:40.404687Z",
     "start_time": "2025-04-08T13:10:40.380896Z"
    }
   },
   "cell_type": "code",
   "source": [
    "stock_data = pd.read_csv(r\"../data/stock_yfinance_data_test_on_real_data.csv\")\n",
    "print(stock_data.columns)"
   ],
   "id": "667adade5dddeef5",
   "outputs": [
    {
     "name": "stdout",
     "output_type": "stream",
     "text": [
      "Index(['Date', 'Open', 'High', 'Low', 'Close', 'Adj Close', 'Volume',\n",
      "       'Stock Name'],\n",
      "      dtype='object')\n"
     ]
    }
   ],
   "execution_count": 8
  },
  {
   "metadata": {
    "ExecuteTime": {
     "end_time": "2025-04-08T13:49:52.790735Z",
     "start_time": "2025-04-08T13:49:51.950052Z"
    }
   },
   "cell_type": "code",
   "source": [
    "from sklearn.ensemble import IsolationForest\n",
    "def detect_pump_and_dump(stock_prices, tweets, lags=[1, 3, 5]):\n",
    "    \"\"\"Detects potential pump-and-dump schemes.\"\"\"\n",
    "\n",
    "    stock_prices['Date'] = pd.to_datetime(stock_prices['Date']) #convert to datetime\n",
    "    tweets['Date'] = pd.to_datetime(pd.to_datetime(tweets['Date']).dt.date) #extract only the date\n",
    "\n",
    "    for lag in lags:\n",
    "        stock_prices[f'price_change_{lag}'] = stock_prices['Close'].pct_change(periods=lag) #Capital C\n",
    "        stock_prices[f'volume_change_{lag}'] = stock_prices['Volume'].pct_change(periods=lag) #Capital V\n",
    "\n",
    "    # Use all price and volume change columns for anomaly detection\n",
    "    price_volume_features = [col for col in stock_prices.columns if 'change' in col]\n",
    "\n",
    "    stock_prices['price_anomaly'] = IsolationForest().fit_predict(stock_prices[price_volume_features])\n",
    "\n",
    "    merged_data = pd.merge(stock_prices, tweets, on=['Date', 'Stock Name'], how='inner')\n",
    "\n",
    "\n",
    "    return merged_data\n",
    "\n",
    "pump_dump_data = detect_pump_and_dump(stock_data, test_data, lags=[1, 3, 5])"
   ],
   "id": "a5143d45d8eef8a9",
   "outputs": [],
   "execution_count": 19
  },
  {
   "metadata": {
    "ExecuteTime": {
     "end_time": "2025-04-08T13:49:54.174924Z",
     "start_time": "2025-04-08T13:49:54.159123Z"
    }
   },
   "cell_type": "code",
   "source": "pump_dump_data[\"price_anomaly\"].value_counts()",
   "id": "b535ae2e4e795f7b",
   "outputs": [
    {
     "data": {
      "text/plain": [
       "price_anomaly\n",
       " 1    57369\n",
       "-1     6307\n",
       "Name: count, dtype: int64"
      ]
     },
     "execution_count": 20,
     "metadata": {},
     "output_type": "execute_result"
    }
   ],
   "execution_count": 20
  },
  {
   "metadata": {
    "ExecuteTime": {
     "end_time": "2025-04-08T13:50:37.268778Z",
     "start_time": "2025-04-08T13:49:54.882702Z"
    }
   },
   "cell_type": "code",
   "source": [
    "lr_prediction = lr_model.predict(pump_dump_data[\"Tweet\"])\n",
    "gb_prediction = gb_model.predict(pump_dump_data[\"Tweet\"])\n",
    "\n",
    "pump_dump_data[\"lr_prediction\"] = lr_prediction\n",
    "pump_dump_data[\"gb_prediction\"] = gb_prediction"
   ],
   "id": "22978af7a3ac3ea1",
   "outputs": [],
   "execution_count": 21
  },
  {
   "metadata": {},
   "cell_type": "markdown",
   "source": "",
   "id": "bdbe61abee858417"
  },
  {
   "metadata": {
    "ExecuteTime": {
     "end_time": "2025-04-08T14:09:04.569101Z",
     "start_time": "2025-04-08T14:09:04.517385Z"
    }
   },
   "cell_type": "code",
   "source": [
    "print(pump_dump_data[\"gb_prediction\"].value_counts())\n",
    "print(pump_dump_data[\"lr_prediction\"].value_counts())"
   ],
   "id": "fc72abc18552f53",
   "outputs": [
    {
     "name": "stdout",
     "output_type": "stream",
     "text": [
      "gb_prediction\n",
      "0    61488\n",
      "1     2188\n",
      "Name: count, dtype: int64\n",
      "lr_prediction\n",
      "0    52860\n",
      "1    10816\n",
      "Name: count, dtype: int64\n"
     ]
    }
   ],
   "execution_count": 26
  },
  {
   "metadata": {
    "ExecuteTime": {
     "end_time": "2025-04-08T13:51:10.080921Z",
     "start_time": "2025-04-08T13:51:10.069241Z"
    }
   },
   "cell_type": "code",
   "source": [
    "from sklearn.metrics import precision_score, recall_score, accuracy_score, f1_score\n",
    "def get_accuracy(df, model_type = \"lr\"):\n",
    "    model_col = \"gb_prediction\"\n",
    "    if model_type == \"lr\":\n",
    "        model_col = \"lr_prediction\"\n",
    "    pump_dump_data = df.copy()\n",
    "    pump_dump_data['price_anomaly'] = pump_dump_data[\"price_anomaly\"] == -1\n",
    "    actual = pump_dump_data['price_anomaly']\n",
    "    predicted = pump_dump_data[model_col]\n",
    "    print(f\"Precision: {precision_score(actual, predicted)}\")\n",
    "    print(f\"Recall: {recall_score(actual, predicted)}\")\n",
    "    print(f\"Accuracy: {accuracy_score(actual, predicted)}\")\n",
    "    print(f\"F1 Score: {f1_score(actual, predicted)}\")"
   ],
   "id": "a3b077bf1650768c",
   "outputs": [],
   "execution_count": 23
  },
  {
   "metadata": {
    "ExecuteTime": {
     "end_time": "2025-04-08T13:51:11.767717Z",
     "start_time": "2025-04-08T13:51:11.668428Z"
    }
   },
   "cell_type": "code",
   "source": "get_accuracy(pump_dump_data, \"lr\")",
   "id": "9b6870f71913c308",
   "outputs": [
    {
     "name": "stdout",
     "output_type": "stream",
     "text": [
      "Precision: 0.09606139053254438\n",
      "Recall: 0.16473759315046774\n",
      "Accuracy: 0.76372573654124\n",
      "F1 Score: 0.12135723880161187\n"
     ]
    }
   ],
   "execution_count": 24
  },
  {
   "metadata": {
    "ExecuteTime": {
     "end_time": "2025-04-08T13:51:12.622299Z",
     "start_time": "2025-04-08T13:51:12.535905Z"
    }
   },
   "cell_type": "code",
   "source": "get_accuracy(pump_dump_data, \"gb\")",
   "id": "2b403668a3253f08",
   "outputs": [
    {
     "name": "stdout",
     "output_type": "stream",
     "text": [
      "Precision: 0.09963436928702012\n",
      "Recall: 0.034564769303947994\n",
      "Accuracy: 0.8734374018468497\n",
      "F1 Score: 0.051324308416715717\n"
     ]
    }
   ],
   "execution_count": 25
  },
  {
   "metadata": {},
   "cell_type": "code",
   "outputs": [],
   "execution_count": null,
   "source": "",
   "id": "82c13751f0bc964a"
  }
 ],
 "metadata": {
  "kernelspec": {
   "display_name": "Python 3",
   "language": "python",
   "name": "python3"
  },
  "language_info": {
   "codemirror_mode": {
    "name": "ipython",
    "version": 2
   },
   "file_extension": ".py",
   "mimetype": "text/x-python",
   "name": "python",
   "nbconvert_exporter": "python",
   "pygments_lexer": "ipython2",
   "version": "2.7.6"
  }
 },
 "nbformat": 4,
 "nbformat_minor": 5
}
